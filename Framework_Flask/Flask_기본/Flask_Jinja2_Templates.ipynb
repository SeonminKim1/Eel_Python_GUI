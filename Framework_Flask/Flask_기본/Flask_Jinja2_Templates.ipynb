{
 "cells": [
  {
   "cell_type": "markdown",
   "metadata": {},
   "source": [
    "## Jinja2 설명\n",
    "- Flask 안에서 내부적으로 Jinja2를 활용함.\n",
    "- render_template을 이용하여 View에 대한 접근이 가능\n",
    "- 기본적으로 /templates 안으로 링크함\n"
   ]
  },
  {
   "cell_type": "code",
   "execution_count": 3,
   "metadata": {},
   "outputs": [
    {
     "name": "stdout",
     "output_type": "stream",
     "text": [
      " * Serving Flask app \"__main__\" (lazy loading)\n",
      " * Environment: production\n",
      "   WARNING: This is a development server. Do not use it in a production deployment.\n",
      "   Use a production WSGI server instead.\n",
      " * Debug mode: off\n"
     ]
    },
    {
     "name": "stderr",
     "output_type": "stream",
     "text": [
      " * Running on http://127.0.0.1:8085/ (Press CTRL+C to quit)\n"
     ]
    }
   ],
   "source": [
    "from flask import Flask\n",
    "from flask import render_template \n",
    "from flask_sqlalchemy import SQLAlchemy\n",
    "\n",
    "import warnings\n",
    "warnings.filterwarnings('ignore')\n",
    "\n",
    "import os # 절대 경로 사용\n",
    "\n",
    "basedir = os.path.abspath(os.path.dirname('__file__'))\n",
    "dbfile = os.path.join(basedir, 'db.sqlite')\n",
    "\n",
    "# Flask 객체를 app에 할당\n",
    "app = Flask(__name__)\n",
    "\n",
    "### SQLlite 설정\n",
    "app.config['SQLALCHEMY_DATABASE_URI'] = 'sqlite:///' + dbfile\n",
    "app.config['SQLALCHEMY_COMMIT_ON_TEARDOWN'] = True\n",
    "app.config['SQLALCHEMY_TRACK_NOTIFICATIONS'] = False # 변경에 대한 알림 안받기\n",
    "\n",
    "# db에 대한 최상위 변수\n",
    "db = SQLAlchemy(app)\n",
    "\n",
    "# 기본적으로 render_template는 /templates 폴더로 감\n",
    "# app 객체를 이용해 라우팅 경로를 설정\n",
    "@app.route('/')\n",
    "def hello():\n",
    "    # 화면에 보여주고 싶은 내용을 전달해야 하는데.\n",
    "    \n",
    "    # ex)\n",
    "    # print(a)\n",
    "    # print(a)\n",
    "    # 여기다가 위와 같이 작성하면 view code를 전달하는 것이지만\n",
    "\n",
    "    # render_template('hello.html')로 하면 html을 전달함.\n",
    "    return render_template('hello.html')\n",
    "\n",
    "\n",
    "if __name__ == \"__main__\":\n",
    "    host_addr = \"127.0.0.1\"\n",
    "    port_num = \"8085\"\n",
    "    app.run(host=host_addr, port=port_num)\n"
   ]
  }
 ],
 "metadata": {
  "kernelspec": {
   "display_name": "Python 3",
   "language": "python",
   "name": "python3"
  },
  "language_info": {
   "codemirror_mode": {
    "name": "ipython",
    "version": 3
   },
   "file_extension": ".py",
   "mimetype": "text/x-python",
   "name": "python",
   "nbconvert_exporter": "python",
   "pygments_lexer": "ipython3",
   "version": "3.7.5"
  }
 },
 "nbformat": 4,
 "nbformat_minor": 4
}
