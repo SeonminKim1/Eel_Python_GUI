{
 "cells": [
  {
   "cell_type": "markdown",
   "metadata": {},
   "source": [
    "## ■ ORM 이란\n",
    "- 기존의 sqlite 라이브러리는 sql문법에 의존해서 파이썬코드로 sql을 동작했었다.\n",
    "- **sql문법을 전부 파이썬 객체로 맵핑하여 그냥 파이썬 객체의 인스턴스, 메소드를 통해서 구현할 수 있다면 훨씬 더 체계적이고 가독성이 좋을 것에서 시작**\n",
    "- **그러한 객체와 기능의 파이썬으로의 MAPPING을 바로 ORM이라고 함.**\n",
    "\n",
    "## ■ ORM 장점 예시\n",
    "\n",
    "### (1) SQL Table\n",
    "    CREATE TABLE articles (\n",
    "        id INTEGER PRIMARY KEY AUTOINCREMENT,\n",
    "        title TEXT NOT NULL,\n",
    "        content TEXT NOT NULL,\n",
    "    );\n",
    "- SQL Table을 만듬\n",
    "\n",
    "### (2-1) 데이터가 저장시 (리스트나 딕셔너리라면)\n",
    "    articles1 = [\n",
    "        [id1, 'title1입니다', '내용1입니다']\n",
    "        [id2, 'title2입니다', '내용2입니다']\n",
    "    ]\n",
    "    \n",
    "    articles2 = [\n",
    "        {'id':1, \"title\":\"제목1\",\"content\":\"내용1\"}\n",
    "        {'id':2, \"title\":\"제목2\",\"content\":\"내용2\"}\n",
    "    ]\n",
    "- 위와 같은 리스트 형태나, 딕셔너리 형태가 될 것임\n",
    "\n",
    "### (2-2) 데이터가 저장시 Object라면 (객체 class)\n",
    "    class Article:\n",
    "    def __init__(self, id, title, content):\n",
    "        self.id=id\n",
    "        self.title=title\n",
    "        self.content=content\n",
    "        \n",
    "    a1 = Article(id1,'제목1','내용1')\n",
    "    a2 = Article(id2,'제목2','내용2')\n",
    "\n",
    "- 위와 같은 식으로 저장되서 a1.title 식으로 데이터를 갖고 올 수 있을 것.\n",
    "- 또한 가져온 데이터에 대한 메소드를 수행할 수 있을 것. (클래스니까)\n",
    "\n",
    "#### ==> 즉 sqlite 라이브러리의 connect 힘을 빌리지 않고도 데이터가 스스로 소멸하거나, 변경 할 수 있다는 점. 이것외의 장점은 되게 많다고 함."
   ]
  },
  {
   "cell_type": "markdown",
   "metadata": {},
   "source": [
    "## ■ SQL Alchamy\n",
    "- Database와 연결하기 위해 사용할 수 있는 라이브러리\n",
    "- SQLAlchemy는 ORM(Object Relational Mapper)로 관계형 데이터베이스의 테이블들을 프로그래밍 언어의 클래스로 표현할 수 있게 해줌.\n",
    "- 즉, 클래스(class)를 사용해서 DB TABLE들을 표현하고 저장, 읽기, 업데이트, 삭제 등을 할 수 있음.\n",
    "\n",
    "### ■ SQL Alchamy 예제 - ORM 적용 예시\n",
    "    class Flight(db.Model):\n",
    "        __tablename__ = \"flights\"\n",
    "        id = db.Column(db.Integer, primary_key=True)\n",
    "        origin = db.Column(db.String, nullable=False)\n",
    "        destination = db.Column(db.String, nullable=False)    \n",
    "        duration = db.Column(db.Integer, nullable=False)   \n",
    "        \n",
    "### ■ Flask 관련\n",
    "- app = Flask(__name__) # Flask 객체를 app에 할당\n",
    "- app.config['SQLALCHEMY_DATABASE_URI'] # 내가 사용할 DATABASE 의 URI를 넣는다.\n",
    "- app.config['SQLALCHEMY_COMMIT_ON_TEARDOWN'] = True # Tear down => 사용자가 웹사이트에 요청을 하고서, 서버에서 사용자에게 원하는 정보를 전달햇을때 / COMMIT => 사용자가 웹사이트에 요청한걸 사용자에게 주었을 때, 그러한 동작들을 쌓아놧다가 한번에 COMMIT 하면 DATABASE 에 직접적으로 반영됨\n",
    "\n",
    "\n",
    "### ■ db관련\n",
    "- sqlite DB사용 따로 설치 필요없이 파일로 만들어서 사용 가능\n",
    "- db = SQLAlchemy(app) # db에 대한 최상위 변수\n",
    "- class Test(db.Model): # db.Model을 상속받은 class 만들어줌. \n",
    "- **db.create_all() # 이렇게 만든 테이블을 다 생성해봐라**\n",
    "- db.Model을 상속받으면 db.Column()이라는 메소드를 사용가능\n",
    "- 항상 database에 직접 반영할때는 commit() 을 해주어야함."
   ]
  },
  {
   "cell_type": "code",
   "execution_count": 23,
   "metadata": {},
   "outputs": [
    {
     "name": "stdout",
     "output_type": "stream",
     "text": [
      " * Serving Flask app \"__main__\" (lazy loading)\n",
      " * Environment: production\n",
      "   WARNING: This is a development server. Do not use it in a production deployment.\n",
      "   Use a production WSGI server instead.\n",
      " * Debug mode: off\n"
     ]
    },
    {
     "name": "stderr",
     "output_type": "stream",
     "text": [
      "c:\\users\\urse\\anaconda3\\envs\\untitled\\lib\\site-packages\\flask_sqlalchemy\\__init__.py:834: FSADeprecationWarning: SQLALCHEMY_TRACK_MODIFICATIONS adds significant overhead and will be disabled by default in the future.  Set it to True or False to suppress this warning.\n",
      "  'SQLALCHEMY_TRACK_MODIFICATIONS adds significant overhead and '\n",
      "c:\\users\\urse\\anaconda3\\envs\\untitled\\lib\\site-packages\\flask_sqlalchemy\\__init__.py:834: FSADeprecationWarning: SQLALCHEMY_TRACK_MODIFICATIONS adds significant overhead and will be disabled by default in the future.  Set it to True or False to suppress this warning.\n",
      "  'SQLALCHEMY_TRACK_MODIFICATIONS adds significant overhead and '\n",
      " * Running on http://127.0.0.1:8080/ (Press CTRL+C to quit)\n"
     ]
    }
   ],
   "source": [
    "\n",
    "from flask import Flask\n",
    "from flask_sqlalchemy import SQLAlchemy\n",
    "from flask import request\n",
    "\n",
    "import os # 절대 경로 사용\n",
    "\n",
    "basedir = os.path.abspath(os.path.dirname('__file__'))\n",
    "dbfile = os.path.join(basedir, 'db.sqlite')\n",
    "\n",
    "# Flask 객체를 app에 할당\n",
    "app = Flask(__name__)\n",
    "\n",
    "### SQLlite 설정\n",
    "# sqlite DB사용 따로 설치 필요없이 파일로 만들어서 사용 가능\n",
    "# 내가 사용할 DATABASE 의 URI를 넣는다. / SQLITE나 MYSQL 에 따라서 다르다.\n",
    "# /// 3개면 상대경로 //// 4개면 절대경로\n",
    "app.config['SQLALCHEMY_DATABASE_URI'] = 'sqlite:///' + dbfile\n",
    "\n",
    "# Tear down => 사용자가 웹사이트에 요청을 하고서, 서버에서 사용자에게 원하는 정보를 전달햇을때\n",
    "# COMMIT => 사용자가 웹사이트에 요청한걸 사용자에게 주었을 때, 그러한 동작들을 쌓아놧다가 한번에 COMMIT 하면 DATABASE 에 직접적으로 반영됨\n",
    "# 따라서 COMMIT 은 그러한 작업들을 데이터베이스에 직접적으로 반영하는 것 !\n",
    "app.config['SQLALCHEMY_COMMIT_ON_TEARDOWN'] = True\n",
    "app.config['SQLALCHEMY_TRACK_NOTIFICATIONS'] = False # 변경에 대한 알림 안받기\n",
    "\n",
    "# db에 대한 최상위 변수\n",
    "db = SQLAlchemy(app)\n",
    "db.init_app(app)\n",
    "\n",
    "# Create Table\n",
    "# 하나의 모델 (MVC의 M)\n",
    "# db.Model을 상속받으면 db.Column()이라는 메소드를 사용가능함.\n",
    "\n",
    "class Article(db.Model):\n",
    "    __table_name = 'article_table' # table 명\n",
    "    db_id = db.Column(db.Integer, primary_key=True)\n",
    "    name = db.Column(db.String(32), unique=True)\n",
    "\n",
    "# db 생성\n",
    "db.create_all()\n",
    "\n",
    "\n",
    "# app 객체를 이용해 라우팅 경로를 설정\n",
    "# 해당 라우팅 경로로 요청이 올 때 실행할 함수를 바로 밑에 작성필요\n",
    "\n",
    "@app.route('/')\n",
    "def hello():\n",
    "    return '<h1>Hello world!</h1>'\n",
    "\n",
    "if __name__ == \"__main__\":\n",
    "    host_addr = \"127.0.0.1\"\n",
    "    port_num = \"8080\"\n",
    "    app.run(host=host_addr, port=port_num)\n"
   ]
  },
  {
   "cell_type": "markdown",
   "metadata": {},
   "source": [
    "## INSERT INTO"
   ]
  },
  {
   "cell_type": "code",
   "execution_count": null,
   "metadata": {
    "scrolled": false
   },
   "outputs": [],
   "source": [
    "\"\"\" ORM을 이용하여 데이터를 저장한다. \"\"\"\n",
    "db_id = request.args.get('db_id')\n",
    "name = request.args.get('name')\n",
    "\n",
    "# insert\n",
    "a = Article(db_id=db_id, name=name) # Article이라는 객체 생성\n",
    "db.session.add(a) # 생성한 객체를 디비에 넣어라.\n",
    "db.session.commit() # commit"
   ]
  },
  {
   "cell_type": "markdown",
   "metadata": {},
   "source": [
    "## SELECT\n",
    "- python sqlite 라이브러리를 이용하면 db연결하고, cursor만들고, execute하고 fetch해야하는데 이건 한줄로 다 처리할 수 있다."
   ]
  },
  {
   "cell_type": "code",
   "execution_count": null,
   "metadata": {},
   "outputs": [],
   "source": [
    "article = Article.query.all()\n",
    "# SELECT * FROM articles와 동일함\n",
    "# 이렇게 뽑힌 것들은 객체들의 리스트가 된다.\n",
    "# [<article1>, <article2>, ...]\n",
    "# 따라서 객체의 원소를 참조하려면 멤버변수를 통해서 들고와야한다!"
   ]
  },
  {
   "cell_type": "markdown",
   "metadata": {},
   "source": [
    "## WHERE\n",
    "- filter_by라는 메서드를 통해서 제어를 할 수 있다.\n",
    "- 우리가 많이 쓰는 where문은 바로 id를 통해서 제어하는 방식인데, 이건 더 간단한 방식으로 구현되어있다.\n",
    "- get 메서드도 가능"
   ]
  },
  {
   "cell_type": "code",
   "execution_count": null,
   "metadata": {},
   "outputs": [],
   "source": [
    "a = Article.query.filter_by(name=\"이름인가요?\").all()\n",
    "\n",
    "a = Article.query.filter_by(id=28).first()\n",
    "# SELECT * FROM articles WHERE id=28 LIMIT 1과 동일한 문법\n",
    "a = Article.query.get(28) # 이렇게 간단하게도 줄여쓸 수 있다!"
   ]
  },
  {
   "cell_type": "markdown",
   "metadata": {},
   "source": [
    "## DELETE\n",
    "- 삭제할 객체를 찾는다 -> 객체를 제거한다"
   ]
  },
  {
   "cell_type": "code",
   "execution_count": null,
   "metadata": {},
   "outputs": [],
   "source": [
    "a = Article.query.get(28)\n",
    "db.session.delete(a)\n",
    "db.session.commit()\n",
    "# 삭제할 객체를 찾는다 -> 객체를 제거한다"
   ]
  },
  {
   "cell_type": "markdown",
   "metadata": {},
   "source": [
    "## UPDATE"
   ]
  },
  {
   "cell_type": "code",
   "execution_count": null,
   "metadata": {},
   "outputs": [],
   "source": [
    "a.name = \"Good Title!\"\n",
    "# 각 row가 인스턴스이기 때문에 클래스의 멤버변수에 직접 접근해서 바꾸면 됨.\n",
    "db.session.commit() # 반드시 커밋!"
   ]
  },
  {
   "cell_type": "markdown",
   "metadata": {},
   "source": [
    "## Count"
   ]
  },
  {
   "cell_type": "code",
   "execution_count": 6,
   "metadata": {},
   "outputs": [
    {
     "ename": "NameError",
     "evalue": "name 'Article' is not defined",
     "output_type": "error",
     "traceback": [
      "\u001b[1;31m---------------------------------------------------------------------------\u001b[0m",
      "\u001b[1;31mNameError\u001b[0m                                 Traceback (most recent call last)",
      "\u001b[1;32m<ipython-input-6-a23fee6954f6>\u001b[0m in \u001b[0;36m<module>\u001b[1;34m\u001b[0m\n\u001b[0;32m      1\u001b[0m \u001b[1;31m#SELECT COUNT(*) FROM articles\u001b[0m\u001b[1;33m\u001b[0m\u001b[1;33m\u001b[0m\u001b[1;33m\u001b[0m\u001b[0m\n\u001b[1;32m----> 2\u001b[1;33m \u001b[0mArticle\u001b[0m\u001b[1;33m.\u001b[0m\u001b[0mquery\u001b[0m\u001b[1;33m.\u001b[0m\u001b[0mcount\u001b[0m\u001b[1;33m(\u001b[0m\u001b[1;33m)\u001b[0m\u001b[1;33m\u001b[0m\u001b[1;33m\u001b[0m\u001b[0m\n\u001b[0m",
      "\u001b[1;31mNameError\u001b[0m: name 'Article' is not defined"
     ]
    }
   ],
   "source": [
    "#SELECT COUNT(*) FROM articles\n",
    "Article.query.count()"
   ]
  },
  {
   "cell_type": "markdown",
   "metadata": {},
   "source": [
    "## MAX"
   ]
  },
  {
   "cell_type": "code",
   "execution_count": null,
   "metadata": {},
   "outputs": [],
   "source": [
    "a = Article.query.order_by(Article.id.desc()).first()"
   ]
  },
  {
   "cell_type": "markdown",
   "metadata": {},
   "source": [
    "## 참고문헌\n",
    "- https://dongchans.github.io/2019/28/ (ORM 과 SQLAlchemy란)"
   ]
  }
 ],
 "metadata": {
  "kernelspec": {
   "display_name": "Python 3",
   "language": "python",
   "name": "python3"
  },
  "language_info": {
   "codemirror_mode": {
    "name": "ipython",
    "version": 3
   },
   "file_extension": ".py",
   "mimetype": "text/x-python",
   "name": "python",
   "nbconvert_exporter": "python",
   "pygments_lexer": "ipython3",
   "version": "3.7.5"
  }
 },
 "nbformat": 4,
 "nbformat_minor": 4
}
