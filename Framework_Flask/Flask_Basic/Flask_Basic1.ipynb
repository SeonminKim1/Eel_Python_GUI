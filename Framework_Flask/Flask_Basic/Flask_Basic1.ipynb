{
 "cells": [
  {
   "cell_type": "code",
   "execution_count": 2,
   "metadata": {},
   "outputs": [
    {
     "name": "stdout",
     "output_type": "stream",
     "text": [
      " * Serving Flask app \"__main__\" (lazy loading)\n",
      " * Environment: production\n",
      "   WARNING: This is a development server. Do not use it in a production deployment.\n",
      "   Use a production WSGI server instead.\n",
      " * Debug mode: off\n"
     ]
    },
    {
     "name": "stderr",
     "output_type": "stream",
     "text": [
      " * Running on http://127.0.0.1:8080/ (Press CTRL+C to quit)\n"
     ]
    }
   ],
   "source": [
    "from flask import Flask\n",
    "\n",
    "# Flask 객체를 app에 할당\n",
    "app = Flask(__name__)\n",
    "\n",
    "# app 객체를 이용해 라우팅 경로를 설정\n",
    "# 해당 라우팅 경로로 요청이 올 때 실행할 함수를 바로 밑에 작성필요\n",
    "@app.route('/')\n",
    "def hello():\n",
    "    return '<h1>Hello world!</h1>'\n",
    "\n",
    "if __name__ == \"__main__\":\n",
    "    host_addr = \"127.0.0.1\"\n",
    "    port_num = \"8080\"\n",
    "    app.run(host=host_addr, port=port_num)"
   ]
  }
 ],
 "metadata": {
  "kernelspec": {
   "display_name": "Python 3",
   "language": "python",
   "name": "python3"
  },
  "language_info": {
   "codemirror_mode": {
    "name": "ipython",
    "version": 3
   },
   "file_extension": ".py",
   "mimetype": "text/x-python",
   "name": "python",
   "nbconvert_exporter": "python",
   "pygments_lexer": "ipython3",
   "version": "3.7.5"
  }
 },
 "nbformat": 4,
 "nbformat_minor": 4
}
