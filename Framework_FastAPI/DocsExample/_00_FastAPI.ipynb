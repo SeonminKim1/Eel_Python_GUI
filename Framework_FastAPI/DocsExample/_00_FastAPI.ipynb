{
 "cells": [
  {
   "cell_type": "markdown",
   "metadata": {},
   "source": [
    "## FastAPI\n",
    "\n",
    "![FastAPI](img/FastAPI.png)\n",
    "\n",
    "- 문서: https://fastapi.tiangolo.com\n",
    "- 소스 코드: https://github.com/tiangolo/fastapi\n",
    "\n",
    "## 장점\n",
    "- Starlette 프레임워크를 기반으로 한 비동기 API 서버 지원\n",
    "- Pydantic을 사용한 Data validation 지원\n",
    "- API Swagger, ReDoc 등을 사용한 API document 자동 생성 지원\n",
    "    - API Swagger :  http://127.0.0.1:8000/docs\n",
    "    - ReDoc :  http://127.0.0.1:8000/redoc\n",
    "    \n",
    "- NodeJS, Go와 대등할 정도로 매우 높은 성능\n",
    "- Python3.6+ Type Hinting 지원\n",
    "\n",
    "<hr>\n"
   ]
  },
  {
   "cell_type": "markdown",
   "metadata": {},
   "source": [
    "\n",
    "## Pydantic\n",
    "- https://pydantic-docs.helpmanual.io/\n",
    "- Python 데이터 유효성 검사 및 설정 관리 라이브러리\n",
    "\n",
    "## Starlette\n",
    "- https://www.starlette.io/\n",
    "- Starlette is a lightweight ASGI framework/toolkit\n",
    "- FastAPI는 Starlette(The little ASGI framework)를 직접 상속하는 클래스\n",
    "\n",
    "## uvicorn\n",
    "- [uvicorn.org]\n",
    "- Uvicorn is a lightning-fast ASGI(Asynchronous Server Gateway Interface) server\n",
    "- 비동기 웹서버 및 어플리케이션, using uvloop and httptools.\n",
    "\n"
   ]
  },
  {
   "cell_type": "markdown",
   "metadata": {},
   "source": [
    "## 향후 공부 후에 적용 가능한 것들\n",
    "- https://fastapi.tiangolo.com/tutorial/cookie-params/ : 쿠키 관련\n",
    "- https://fastapi.tiangolo.com/tutorial/header-params/ : 헤더 관련\n",
    "- https://fastapi.tiangolo.com/tutorial/request-forms/ : Form에서 데이터 받는 경우\n",
    "- https://fastapi.tiangolo.com/tutorial/request-files/ : 사용자 업로드 파일"
   ]
  }
 ],
 "metadata": {
  "kernelspec": {
   "display_name": "Python 3",
   "language": "python",
   "name": "python3"
  },
  "language_info": {
   "codemirror_mode": {
    "name": "ipython",
    "version": 3
   },
   "file_extension": ".py",
   "mimetype": "text/x-python",
   "name": "python",
   "nbconvert_exporter": "python",
   "pygments_lexer": "ipython3",
   "version": "3.8.5"
  }
 },
 "nbformat": 4,
 "nbformat_minor": 2
}
