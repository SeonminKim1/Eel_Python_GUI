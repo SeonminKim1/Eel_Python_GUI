{
 "cells": [
  {
   "cell_type": "markdown",
   "metadata": {},
   "source": [
    "## *args  vs **kwargs 차이점\n",
    "- *args \n",
    "    - Return Tuple\n",
    "    - 인자 갯수 상관없이 호출 할 때, args가 아닌 어떤 이름이 와도 상관 X\n",
    "- **kwargs (keyword argument) \n",
    "    - Return Dict\n",
    "- 순서 : 일반 변수, *변수, **변수"
   ]
  },
  {
   "cell_type": "code",
   "execution_count": 1,
   "metadata": {},
   "outputs": [
    {
     "name": "stdout",
     "output_type": "stream",
     "text": [
      "(3, 5)\n",
      "(3, 5, 7)\n"
     ]
    }
   ],
   "source": [
    "def func1(*a):\n",
    "    print(a)\n",
    "\n",
    "func1(3, 5)\n",
    "func1(3, 5, 7)"
   ]
  },
  {
   "cell_type": "code",
   "execution_count": 3,
   "metadata": {},
   "outputs": [
    {
     "name": "stdout",
     "output_type": "stream",
     "text": [
      "{'a': 3, 'b': 4}\n",
      "{'a': 5, 'b': 10, 'c': 15}\n"
     ]
    }
   ],
   "source": [
    "def func2(**kwargs):\n",
    "    print(kwargs)\n",
    "\n",
    "func2(a=3, b=4)\n",
    "func2(a=5, b=10, c=15)"
   ]
  },
  {
   "cell_type": "code",
   "execution_count": 5,
   "metadata": {},
   "outputs": [
    {
     "name": "stdout",
     "output_type": "stream",
     "text": [
      "(4, 5, 10) {'a': 'b', 'b': 'c', 'c': 'd'}\n"
     ]
    }
   ],
   "source": [
    "def func3(*args, **kwargs):\n",
    "    print(args, kwargs)\n",
    "\n",
    "func3(4,5,10,a='b', b='c', c='d')"
   ]
  }
 ],
 "metadata": {
  "interpreter": {
   "hash": "addd9b989c499b16a5bc4b54c86abb1f12e90eb6082eff1495b1e5d1e997ee03"
  },
  "kernelspec": {
   "display_name": "Python 3.8.5 ('seonmin')",
   "language": "python",
   "name": "python3"
  },
  "language_info": {
   "codemirror_mode": {
    "name": "ipython",
    "version": 3
   },
   "file_extension": ".py",
   "mimetype": "text/x-python",
   "name": "python",
   "nbconvert_exporter": "python",
   "pygments_lexer": "ipython3",
   "version": "3.8.5"
  },
  "orig_nbformat": 4
 },
 "nbformat": 4,
 "nbformat_minor": 2
}
