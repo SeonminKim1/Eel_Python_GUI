{
 "cells": [
  {
   "cell_type": "markdown",
   "metadata": {},
   "source": [
    "## .npy, .npz 파일 분석\n",
    "- nengo에서 mnist 학습시켜서 저장된 parameter 예시임\n",
    "- https://www.kite.com/python/docs/numpy.lib.npyio.NpzFile // npz 속성\n",
    "\n",
    "### 함수 API\n",
    "- np.save() : 1개의 배열을 NumPy format의 바이너리 파일로 저장하기\n",
    "- np.load() : np.save()로 저장된 *.npy 파일을 배열로 불러오기\n",
    "- np.savez() : 여러개의 배열을 1개의 압축되지 않은 *.npz 포맷 파일로 저장하기\n",
    "- np.load() : np.savez()로 저장된 *.npz 파일을 배열로 불러오기\n",
    "\n",
    "- **여기서 배열이란 np.array를 뜻함 (list 가 아님 x)**"
   ]
  },
  {
   "cell_type": "markdown",
   "metadata": {},
   "source": [
    "## .npy\n",
    "- 한개의 np.array 배열이면 npy"
   ]
  },
  {
   "cell_type": "code",
   "execution_count": 84,
   "metadata": {},
   "outputs": [
    {
     "data": {
      "text/plain": [
       "array([[1, 2],\n",
       "       [2, 3]])"
      ]
     },
     "execution_count": 84,
     "metadata": {},
     "output_type": "execute_result"
    }
   ],
   "source": [
    "import numpy as np\n",
    "\n",
    "a = np.array([[1,2],[2,3]])\n",
    "b = np.array([[5,5],[5,5]])\n",
    "c = np.array([[5,5],[5,5]])\n",
    "\n",
    "# abc npy 저장\n",
    "np.save('abc.npy',a)\n",
    "\n",
    "# 다시 load\n",
    "abc_npy = np.load('abc.npy')\n",
    "abc_npy"
   ]
  },
  {
   "cell_type": "markdown",
   "metadata": {},
   "source": [
    "## .npz\n",
    "- 여러개의 np.array 배열이면 npz"
   ]
  },
  {
   "cell_type": "code",
   "execution_count": 85,
   "metadata": {},
   "outputs": [
    {
     "data": {
      "text/plain": [
       "<numpy.lib.npyio.NpzFile at 0x17d989294c8>"
      ]
     },
     "execution_count": 85,
     "metadata": {},
     "output_type": "execute_result"
    }
   ],
   "source": [
    "import numpy as np\n",
    "\n",
    "a = np.array([[1,2],[2,3]])\n",
    "b = np.array([[5,5],[5,5]])\n",
    "c = np.array([[5,5],[5,5]])\n",
    "\n",
    "# abc npz 저장\n",
    "np.savez('abc.npz',a, b, c)\n",
    "\n",
    "# 다시 load\n",
    "abc_npz = np.load('abc.npz')\n",
    "abc_npz"
   ]
  },
  {
   "cell_type": "code",
   "execution_count": 83,
   "metadata": {},
   "outputs": [
    {
     "data": {
      "text/plain": [
       "['arr_0', 'arr_1', 'arr_2']"
      ]
     },
     "execution_count": 83,
     "metadata": {},
     "output_type": "execute_result"
    }
   ],
   "source": [
    "# 속성들 key, value 형태로 저장되어있음\n",
    "abc_npz.files"
   ]
  },
  {
   "cell_type": "code",
   "execution_count": 86,
   "metadata": {},
   "outputs": [
    {
     "name": "stdout",
     "output_type": "stream",
     "text": [
      "(2, 2)\n"
     ]
    },
    {
     "data": {
      "text/plain": [
       "array([[1, 2],\n",
       "       [2, 3]])"
      ]
     },
     "execution_count": 86,
     "metadata": {},
     "output_type": "execute_result"
    }
   ],
   "source": [
    "# value 값들 속성\n",
    "print(abc_npz['arr_0'].shape)\n",
    "abc_npz['arr_0']"
   ]
  }
 ],
 "metadata": {
  "kernelspec": {
   "display_name": "Python 3",
   "language": "python",
   "name": "python3"
  },
  "language_info": {
   "codemirror_mode": {
    "name": "ipython",
    "version": 3
   },
   "file_extension": ".py",
   "mimetype": "text/x-python",
   "name": "python",
   "nbconvert_exporter": "python",
   "pygments_lexer": "ipython3",
   "version": "3.7.5"
  }
 },
 "nbformat": 4,
 "nbformat_minor": 4
}
