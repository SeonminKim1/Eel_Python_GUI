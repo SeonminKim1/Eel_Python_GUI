{
 "cells": [
  {
   "cell_type": "code",
   "execution_count": 1,
   "metadata": {},
   "outputs": [],
   "source": [
    "import requests\n",
    "from bs4 import BeautifulSoup\n",
    "\n",
    "from pymongo import MongoClient           # pymongo를 임포트 하기(패키지 인스톨 먼저 해야겠죠?)\n",
    "my_client = MongoClient('localhost', 27017)  # mongoDB는 27017 포트로 돌아갑니다.\n",
    "my_db = my_client.smkim                      # 'smkim'라는 이름의 db를 만듭니다.\n",
    "movie_collections = my_db.movies\n",
    "\n",
    "# URL을 읽어서 HTML를 받아오고,\n",
    "headers = {'User-Agent' : 'Mozilla/5.0 (Windows NT 10.0; Win64; x64)AppleWebKit/537.36 (KHTML, like Gecko) Chrome/73.0.3683.86 Safari/537.36'}\n",
    "data = requests.get('https://movie.naver.com/movie/sdb/rank/rmovie.nhn?sel=pnt&date=20200303',headers=headers)\n",
    "\n",
    "# HTML을 BeautifulSoup이라는 라이브러리를 활용해 검색하기 용이한 상태로 만듦\n",
    "soup = BeautifulSoup(data.text, 'html.parser')\n",
    "\n",
    "# select를 이용해서, tr들을 불러오기\n",
    "movies = soup.select('#old_content > table > tbody > tr')\n",
    "\n",
    "# movies (tr들) 의 반복문을 돌리기\n",
    "for movie in movies:\n",
    "    # movie 안에 a 가 있으면,\n",
    "    a_tag = movie.select_one('td.title > div > a')\n",
    "    if a_tag is not None:\n",
    "        rank = movie.select_one('td:nth-of-type(1) > img')['alt'] # img 태그의 alt 속성값을 가져오기\n",
    "        title = a_tag.text                                      # a 태그 사이의 텍스트를 가져오기\n",
    "        star = movie.select_one('td.point').text                # td 태그 사이의 텍스트를 가져오기\n",
    "        doc = {\n",
    "            'rank' : rank,\n",
    "            'title' : title,\n",
    "            'star' : star\n",
    "        }\n",
    "        movie_collections.insert_one(doc)"
   ]
  },
  {
   "cell_type": "code",
   "execution_count": 11,
   "metadata": {},
   "outputs": [
    {
     "name": "stdout",
     "output_type": "stream",
     "text": [
      "저장 결과 확인 :  50 \n",
      " [{'rank': '01', 'title': '그린 북', 'star': '9.60'}, {'rank': '02', 'title': '가버나움', 'star': '9.59'}, {'rank': '03', 'title': '베일리 어게인', 'star': '9.52'}]\n"
     ]
    }
   ],
   "source": [
    "### 저장 결과 확인\n",
    "saved_value = list(movie_collections.find({}, {'_id':False}))\n",
    "print('저장 결과 확인 : ', len(saved_value), '\\n', saved_value[:3])"
   ]
  }
 ],
 "metadata": {
  "interpreter": {
   "hash": "addd9b989c499b16a5bc4b54c86abb1f12e90eb6082eff1495b1e5d1e997ee03"
  },
  "kernelspec": {
   "display_name": "Python 3.8.5 ('seonmin')",
   "language": "python",
   "name": "python3"
  },
  "language_info": {
   "codemirror_mode": {
    "name": "ipython",
    "version": 3
   },
   "file_extension": ".py",
   "mimetype": "text/x-python",
   "name": "python",
   "nbconvert_exporter": "python",
   "pygments_lexer": "ipython3",
   "version": "3.8.5"
  },
  "orig_nbformat": 4
 },
 "nbformat": 4,
 "nbformat_minor": 2
}
