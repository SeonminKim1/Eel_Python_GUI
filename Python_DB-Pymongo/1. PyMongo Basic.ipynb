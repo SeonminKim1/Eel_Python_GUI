{
 "cells": [
  {
   "cell_type": "markdown",
   "metadata": {},
   "source": [
    "### RDBMS(SQL)\n",
    "- 행/열의 생김새가 정해진 엑셀에 데이터를 저장하는 것\n",
    "    - ex) MS-SQL, My-SQL 등\n",
    "- 정형화되어 있어, 데이터의 일관성 / 분석에 용이\n",
    "\n",
    "### No-SQL\n",
    "- 딕셔너리 형태로 데이터를 저장해두는 DB\n",
    "    - ex) mongo DB\n",
    "- 데이터 하나 하나 마다 같은 값들을 가질 필요 X\n",
    "- 자유로운 형태의 데이터 적재에 유리 / 일관성 부족"
   ]
  },
  {
   "cell_type": "code",
   "execution_count": 61,
   "metadata": {},
   "outputs": [],
   "source": [
    "# DB Setting\n",
    "from pymongo import MongoClient\n",
    "my_client = MongoClient('localhost', 27017)\n",
    "my_db = my_client.smkim # smkim db 만들기"
   ]
  },
  {
   "cell_type": "markdown",
   "metadata": {},
   "source": [
    "### DB INSERT"
   ]
  },
  {
   "cell_type": "code",
   "execution_count": 75,
   "metadata": {},
   "outputs": [
    {
     "data": {
      "text/plain": [
       "<pymongo.results.InsertOneResult at 0x2657ca9cac0>"
      ]
     },
     "execution_count": 75,
     "metadata": {},
     "output_type": "execute_result"
    }
   ],
   "source": [
    "# 'users'라는 collection에 {'name':'bobby','age':21}를 넣습니다.\n",
    "my_collections = my_db.abcd # abcd라는 collection 생성\n",
    "my_collections.insert_one({'name':'bobby','age':21})\n",
    "my_collections.insert_one({'name':'bobby','age':23})\n",
    "my_collections.insert_one({'name':'bobby','age':25})\n",
    "# my_collections.insert_one({'name':'kay','age':27})\n",
    "# db.users.insert_one({'name':'john','age':30})"
   ]
  },
  {
   "cell_type": "markdown",
   "metadata": {},
   "source": [
    "### DB Find"
   ]
  },
  {
   "cell_type": "code",
   "execution_count": 76,
   "metadata": {},
   "outputs": [
    {
     "name": "stdout",
     "output_type": "stream",
     "text": [
      "전체 :  3 [{'_id': ObjectId('62501551530f877fa54eb16f'), 'name': 'bobby', 'age': 21}, {'_id': ObjectId('62501551530f877fa54eb170'), 'name': 'bobby', 'age': 23}, {'_id': ObjectId('62501551530f877fa54eb171'), 'name': 'bobby', 'age': 25}]\n",
      "특정 조건 : [{'name': 'bobby', 'age': 21}]\n"
     ]
    }
   ],
   "source": [
    "# MongoDB에서 데이터 모두 보기\n",
    "all_value = list(my_collections.find({}))\n",
    "print('전체 : ', len(all_value), all_value)\n",
    "\n",
    "# 참고) MongoDB에서 특정 조건의 데이터 모두 보기 - id:False 면 안나옴.\n",
    "same_ages = list(my_collections.find({'age':21}, {'_id':False}))\n",
    "print('특정 조건 :', same_ages)"
   ]
  },
  {
   "cell_type": "markdown",
   "metadata": {},
   "source": [
    "### DB Update\n",
    "- 값 한개만 바꾸기 : update_one\n",
    "- 여러개 바꾸기 : update_many"
   ]
  },
  {
   "cell_type": "code",
   "execution_count": 77,
   "metadata": {},
   "outputs": [
    {
     "name": "stdout",
     "output_type": "stream",
     "text": [
      "변경 후 전체1 :  3 [{'_id': ObjectId('62501551530f877fa54eb16f'), 'name': 'bobby', 'age': 1000}, {'_id': ObjectId('62501551530f877fa54eb170'), 'name': 'bobby', 'age': 23}, {'_id': ObjectId('62501551530f877fa54eb171'), 'name': 'bobby', 'age': 25}]\n",
      "변경 후 전체2 :  3 [{'_id': ObjectId('62501551530f877fa54eb16f'), 'name': 'bobby', 'age': 15}, {'_id': ObjectId('62501551530f877fa54eb170'), 'name': 'bobby', 'age': 15}, {'_id': ObjectId('62501551530f877fa54eb171'), 'name': 'bobby', 'age': 15}]\n"
     ]
    }
   ],
   "source": [
    "# 한번에 한개만 바꾸기\n",
    "my_collections.update_one({'name':'bobby'}, {'$set':{'age':1000}})\n",
    "temp_value = list(my_collections.find({}))\n",
    "print('변경 후 전체1 : ', len(temp_value), temp_value)\n",
    "\n",
    "# 한번에 값 다바꾸기\n",
    "my_collections.update_many({'name':'bobby'}, {'$set':{'age':15}})\n",
    "temp_value = list(my_collections.find({}))\n",
    "print('변경 후 전체2 : ', len(temp_value), temp_value)\n"
   ]
  },
  {
   "cell_type": "markdown",
   "metadata": {},
   "source": [
    "### DB - Delete\n",
    "- delete_one : 한개만 삭제\n",
    "- delete_many : 여러개 삭제"
   ]
  },
  {
   "cell_type": "code",
   "execution_count": 81,
   "metadata": {},
   "outputs": [
    {
     "name": "stdout",
     "output_type": "stream",
     "text": [
      "삭제 전 전체2 :  3 [{'_id': ObjectId('62501551530f877fa54eb16f'), 'name': 'bobby', 'age': 15}, {'_id': ObjectId('62501551530f877fa54eb170'), 'name': 'bobby', 'age': 15}, {'_id': ObjectId('62501551530f877fa54eb171'), 'name': 'bobby', 'age': 15}]\n",
      "삭제 후 전체2 :  0 []\n"
     ]
    }
   ],
   "source": [
    "# 한개 삭제\n",
    "my_collections.delete_one({'name':'bobby'})\n",
    "temp_value = list(my_collections.find({}))\n",
    "print('삭제 후 전체1 : ', len(temp_value), temp_value)\n",
    "\n",
    "# 여러개 삭제\n",
    "my_collections.delete_many({'name':'bobby', 'age':15})\n",
    "temp_value = list(my_collections.find({}))\n",
    "print('삭제 후 전체2 : ', len(temp_value), temp_value)"
   ]
  }
 ],
 "metadata": {
  "interpreter": {
   "hash": "addd9b989c499b16a5bc4b54c86abb1f12e90eb6082eff1495b1e5d1e997ee03"
  },
  "kernelspec": {
   "display_name": "Python 3.8.5 ('seonmin')",
   "language": "python",
   "name": "python3"
  },
  "language_info": {
   "codemirror_mode": {
    "name": "ipython",
    "version": 3
   },
   "file_extension": ".py",
   "mimetype": "text/x-python",
   "name": "python",
   "nbconvert_exporter": "python",
   "pygments_lexer": "ipython3",
   "version": "3.8.5"
  },
  "orig_nbformat": 4
 },
 "nbformat": 4,
 "nbformat_minor": 2
}
