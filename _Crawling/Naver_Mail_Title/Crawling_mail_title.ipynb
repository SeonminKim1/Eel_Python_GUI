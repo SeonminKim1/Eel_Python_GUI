{
 "cells": [
  {
   "cell_type": "markdown",
   "metadata": {},
   "source": [
    "## Naver Mail Crawling\n",
    "- pip install pyperclip : 아이디랑 비밀번호 입력시 Catpcha 방지용\n",
    "- pip install selenium"
   ]
  },
  {
   "cell_type": "code",
   "execution_count": 1,
   "metadata": {},
   "outputs": [],
   "source": [
    "def default_setting():\n",
    "    # 기본 설정 \n",
    "    driver = webdriver.Chrome('chromedriver')\n",
    "    driver.implicitly_wait(3)\n",
    "    driver.get(url)\n",
    "    return driver\n",
    "\n",
    "# login\n",
    "def login(driver):\n",
    "    # id 입력\n",
    "    driver.find_element_by_name('id').click()\n",
    "    pyperclip.copy('yubi5050')\n",
    "    driver.find_element_by_name('id').send_keys(Keys.CONTROL, 'v')\n",
    "    \n",
    "    # pw 입력\n",
    "    driver.find_element_by_name('pw').click()\n",
    "    pyperclip.copy('tjsals123!@')\n",
    "    driver.find_element_by_name('pw').send_keys(Keys.CONTROL, 'v')\n",
    "\n",
    "    # login button\n",
    "    driver.find_element_by_id('log.login').click()\n",
    "    return driver\n",
    "\n",
    "def crawling_mail_title(driver):\n",
    "    maillist = driver.find_elements_by_css_selector('strong.mail_title')\n",
    "    \n",
    "    return maillist\n"
   ]
  },
  {
   "cell_type": "code",
   "execution_count": 2,
   "metadata": {},
   "outputs": [
    {
     "name": "stdout",
     "output_type": "stream",
     "text": [
      "(광고)언택트 행사 경험 설문 참여하고 아메리카노 받아가세요.☕\n",
      "(광고) 문화상품권이 필요한데 얻을 방법 없을까?\n",
      "(광고) 최대 10% 쿠폰 할인받아 바로 즐기세요!\n",
      "멀티 클라우드 환경과 분산된 워크로드의 관리\n",
      "(광고)[CJ ONE] 김선민님, 12월 포인트 현황과 다양한 혜택을 확인하세요!\n",
      "(광고) KF94 4중구조 100매 21,500원\n",
      "[네이버 웹툰] '고수'의 구매 내역을 안내해 드립니다.\n",
      "[예스24] 김*민님 주문하신 상품내역을 알려드립니다.\n",
      "(광고) 긴급 생활대출이 필요할때!! 쉽고 빠른 '맞춤형안심대출' 고민해결OK!!\n",
      "새로운 환경에서 로그인 되었습니다.\n",
      "(광고) GNM콜라겐젤리 핫특가! 팡LIVE와 함께해요~\n",
      "(광고) ALL국산 KF94 장당 최대 229원\n",
      "(광고)[CJ ONE] 김선민님, 금주 추천 이벤트를 확인하세요!\n",
      "(광고) 찐플 첫 결제 하고 컬쳐캐쉬 5,500원 받아가세요~!\n",
      "(광고) 1월 5일 김선민님께 <치아교정 지원자> 모집 안내 드립니다.\n"
     ]
    }
   ],
   "source": [
    "from selenium import webdriver\n",
    "from selenium.webdriver.common.keys import Keys\n",
    "import pyperclip\n",
    "\n",
    "url = 'https://mail.naver.com'\n",
    "\n",
    "# 1. default setting\n",
    "driver = default_setting()\n",
    "\n",
    "# 2. login\n",
    "driver = login(driver)\n",
    "\n",
    "# 3. crawling\n",
    "result = crawling_mail_title(driver)\n",
    "\n",
    "for mail in result:\n",
    "    print(mail.text)\n"
   ]
  },
  {
   "cell_type": "markdown",
   "metadata": {},
   "source": [
    "## 참고문헌 \n",
    "- https://blog.naver.com/PostView.nhn?blogId=jhl0826&logNo=221981994015&parentCategoryNo=&categoryNo=25&viewDate=&isShowPopularPosts=true&from=search"
   ]
  }
 ],
 "metadata": {
  "kernelspec": {
   "display_name": "Python 3",
   "language": "python",
   "name": "python3"
  },
  "language_info": {
   "codemirror_mode": {
    "name": "ipython",
    "version": 3
   },
   "file_extension": ".py",
   "mimetype": "text/x-python",
   "name": "python",
   "nbconvert_exporter": "python",
   "pygments_lexer": "ipython3",
   "version": "3.7.9"
  }
 },
 "nbformat": 4,
 "nbformat_minor": 4
}
