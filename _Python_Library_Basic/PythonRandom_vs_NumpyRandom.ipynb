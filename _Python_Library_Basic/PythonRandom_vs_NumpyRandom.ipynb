{
 "cells": [
  {
   "cell_type": "markdown",
   "metadata": {},
   "source": [
    "## 파이썬 Random   \n",
    "(1) random.random() : 0.0에서 1.0 사이의 실수 반환   \n",
    "(2) random.uniform(a, b) : a에서 b사이의 실수 반환   \n",
    "(3) random.randint(a, b) : a에서 b사이의 정수 반환   \n",
    "(4) random.randrange(a, b) : a에서 b까지의 정수 반환   \n",
    "(5) random.choice(seq) : 주어진 seq중 1개 선택   \n",
    "(6) random.sample(seq, N) : 주어진 seq중 원하는 N개 선택   \n",
    "(7) random.shuffle(seq) # seq의 순서를 무작위로 바꾸어줌 (list형만 가능)   \n",
    "\n",
    "## Numpy Random\n",
    "- 파이썬 내장 random 함수를 보강하여 **다양한 종류의 확률분포로부터 효과적으로 표본 값을 생성하는데 주로 사용**\n",
    "- 매우 큰 표본을 생성할 시 파이썬 내장모듈보다 수십 배 빠르다.   \n",
    "\n",
    "(1) np.rand : 0부터 1사이의 균일 분포   \n",
    "(2) np.random.randn : 가우시안 표준 정규 분포 : 표준편차가 1이고 평균값이 0인 정규분포 표본추출   \n",
    "(3) np.random.randint : 균일 분포의 정수 난수   \n",
    "(4) np.random.choice (seq, size, replace, p) : seq에서 랜덤. 데이터, 샘플숫자, 데이터 재사용여부, 데이터 뽑힐 확률    \n",
    "(5) np.random.randint (a, b, size) : a에서 b사이의 size갯수 만큼 추출.   "
   ]
  },
  {
   "cell_type": "code",
   "execution_count": 28,
   "metadata": {},
   "outputs": [
    {
     "name": "stdout",
     "output_type": "stream",
     "text": [
      "0.5982372620625274\n",
      "12.942002220083367\n",
      "11\n",
      "11\n",
      "1\n",
      "[3, 5, 4] ['d', 'f']\n",
      "None\n"
     ]
    }
   ],
   "source": [
    "import random\n",
    "\n",
    "# (1) 0.0에서 1.0사이의 실수(float) 반환\n",
    "r = random.random()\n",
    "print(r)\n",
    "\n",
    "# (2) a~b 사이의 실수(float)를 반환\n",
    "r2 = random.uniform(10,20)\n",
    "print(r2)\n",
    "\n",
    "# (3) a~b 사이의 랜덤한 정수를반환\n",
    "r3 = random.randint(10,20)\n",
    "print(r3)\n",
    "\n",
    "# (4) randrange(5) -> 0<=r4<=5 / randrange(5,15) -> 0 <= r4 <= 15\n",
    "# 매개변수 2개짜리는 a<=x<=b / 매개변수 1개짜리는 0<=x<=b\n",
    "r4 = random.randrange(10,20)\n",
    "print(r4)\n",
    "\n",
    "# (5) choice (seq) -> seq형\n",
    "r5 = random.choice([1,2,3,10])\n",
    "print(r5)\n",
    "\n",
    "# (6) random.sample(seq) \n",
    "r6 = random.sample([3,4,5,6], 3)\n",
    "r6_str = random.sample('abcdefgh', 2)\n",
    "print(r6, r6_str)\n",
    "\n",
    "# (7) random.shuffle(seq) - 리스트만 가능\n",
    "r7 = random.shuffle([7,8,9,3,2,5])\n",
    "print(r7)\n",
    "\n"
   ]
  },
  {
   "cell_type": "code",
   "execution_count": 30,
   "metadata": {},
   "outputs": [
    {
     "name": "stdout",
     "output_type": "stream",
     "text": [
      "[ 0.47143516 -1.19097569  1.43270697 -0.3126519  -0.72058873  0.88716294\n",
      "  0.85958841 -0.6365235   0.01569637 -2.24268495]\n",
      "[0.64414354 0.38074849 0.66304791 0.16365073 0.96260781]\n",
      "[[0.34666184 0.99175099 0.2350579  0.58569427]\n",
      " [0.4066901  0.13623432 0.54413629 0.51817635]]\n",
      "[ 0.65194963 -1.3181097   0.89078925  1.11122629  0.45579259]\n",
      "[0 2 4]\n",
      "[3 2 3 3 2 3 2 3 2 2]\n",
      "[4 2 3 9 8 0 7 1 9 4]\n",
      "[[12 11 19 17 16]\n",
      " [10 17 10 13 16]\n",
      " [17 13 13 15 17]]\n"
     ]
    }
   ],
   "source": [
    "import numpy as np\n",
    "\n",
    "# (0) 난수 생성기의 시드값 정하기\n",
    "np.random.seed(30)\n",
    "\n",
    "# (1) 난수 생성하기. (프로그램에 대한 시드가 아닌 임의 시드 생성)\n",
    "n1 = np.random.RandomState(1234)\n",
    "print(n1.randn(10)) # 생성한 시드로 수 만들기.\n",
    "\n",
    "# (2) rand 균일분포\n",
    "n2 = np.random.rand(5)\n",
    "n3 = np.random.rand(2,4)\n",
    "print(n2)\n",
    "print(n3)\n",
    "\n",
    "# (3) 표준편차가 1이고 평균값이 0인 정규분포 표본추출\n",
    "n4 = np.random.randn(5)\n",
    "print(n4)\n",
    "\n",
    "# (4) 데이터 샘플링 - np.random.choice (seq, size, replace, p) : 데이터, 샘플숫자, 한번선택한 데이터를다시 선택 가능\n",
    "n5 = np.random.choice(a = 5, size = 3, replace=False) # shuffle 명령과 같다.\n",
    "print(n5)\n",
    "\n",
    "# (4-1) - np.random.choice(5, 10) \n",
    "n6 = np.random.choice(5, 10, p=[0.1, 0, 0.3, 0.6, 0]) # 반복해서 10개 선택\n",
    "print(n6)\n",
    "\n",
    "# (5) 데이터 샘플링 - np.random.randint(low, high, size)\n",
    "n7 = np.random.randint(10, size=10)\n",
    "n8 = np.random.randint(10, 20, size=(3,5))\n",
    "print(n7)\n",
    "print(n8)\n"
   ]
  },
  {
   "cell_type": "markdown",
   "metadata": {},
   "source": [
    "\n",
    "![numpy_random](__imgs/numpy_random.PNG)"
   ]
  }
 ],
 "metadata": {
  "kernelspec": {
   "display_name": "Python 3",
   "language": "python",
   "name": "python3"
  },
  "language_info": {
   "codemirror_mode": {
    "name": "ipython",
    "version": 3
   },
   "file_extension": ".py",
   "mimetype": "text/x-python",
   "name": "python",
   "nbconvert_exporter": "python",
   "pygments_lexer": "ipython3",
   "version": "3.7.5"
  }
 },
 "nbformat": 4,
 "nbformat_minor": 4
}
