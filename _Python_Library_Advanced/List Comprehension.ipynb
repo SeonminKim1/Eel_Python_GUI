{
 "cells": [
  {
   "cell_type": "markdown",
   "metadata": {},
   "source": [
    "## 파이썬 Comprehension 기법\n",
    "- iterable한 오브젝트를 생성하기 위한 방법중 하나로 파이썬에서 사용할 수 있는 유용한 기능중 하나\n",
    "- 종류\n",
    "    - List Comprehension (LC)\n",
    "    - Set Comprehension (SC)\n",
    "    - Dict Comprehension (DC)\n",
    "    - Generator Expression (GE) (expression 이라고도 부름)"
   ]
  },
  {
   "cell_type": "markdown",
   "metadata": {},
   "source": [
    "## List Comprehension"
   ]
  },
  {
   "cell_type": "code",
   "execution_count": 1,
   "metadata": {},
   "outputs": [
    {
     "name": "stdout",
     "output_type": "stream",
     "text": [
      "[0, 2, 4, 6, 8, 10, 12, 14, 16, 18, 20]\n"
     ]
    }
   ],
   "source": [
    "# 20까지의 짝수를 출력\n",
    "evens = [x * 2 for x in range(11)]\n",
    "print(evens)"
   ]
  },
  {
   "cell_type": "code",
   "execution_count": 2,
   "metadata": {},
   "outputs": [
    {
     "name": "stdout",
     "output_type": "stream",
     "text": [
      "[('sweet', 'john'), ('sweet', 'alice'), ('sweet', 'james'), ('annoying', 'john'), ('annoying', 'alice'), ('annoying', 'james'), ('cool', 'john'), ('cool', 'alice'), ('cool', 'james'), ('grey-eyed', 'john'), ('grey-eyed', 'alice'), ('grey-eyed', 'james')]\n"
     ]
    }
   ],
   "source": [
    "# 두 리스트의 원소들의 모든 조합을 찾는 LC\n",
    "epithets = ['sweet', 'annoying', 'cool', 'grey-eyed']\n",
    "names = ['john', 'alice', 'james']\n",
    "epithet_names = [(e, n) for e in epithets for n in names]\n",
    "print(epithet_names)"
   ]
  },
  {
   "cell_type": "code",
   "execution_count": 4,
   "metadata": {},
   "outputs": [
    {
     "name": "stdout",
     "output_type": "stream",
     "text": [
      "mthmtcs\n"
     ]
    }
   ],
   "source": [
    "# 단어에서 모음을 제거하는 LC\n",
    "word = 'mathematics'\n",
    "without_vowels = ''.join([c for c in word if c not in ['a', 'e', 'i', 'o', 'u']])\n",
    "print(without_vowels)"
   ]
  },
  {
   "cell_type": "markdown",
   "metadata": {},
   "source": [
    "## Set Comprehension\n",
    "- List Comprehension 과 동일\n",
    "- **다만 Set Comprehension 은 중복값 없는 결과를 얻어낼 수 있음**"
   ]
  },
  {
   "cell_type": "code",
   "execution_count": 6,
   "metadata": {},
   "outputs": [
    {
     "name": "stdout",
     "output_type": "stream",
     "text": [
      "{4, 6, 8, 9, 10, 12, 14, 15, 16, 18, 20, 21, 22, 24, 25, 26, 27, 28, 30, 32, 33, 34, 35, 36, 38, 39, 40, 42, 44, 45, 46, 48, 49}\n"
     ]
    }
   ],
   "source": [
    "# SC를 사용하면 중복값이 없는 집합을 얻을 수 있음\n",
    "no_primes = {j for i in range(2, 9) for j in range(i * 2, 50, i)}\n",
    "print(no_primes)"
   ]
  },
  {
   "cell_type": "markdown",
   "metadata": {},
   "source": [
    "## Dict Comprehension"
   ]
  },
  {
   "cell_type": "code",
   "execution_count": 8,
   "metadata": {},
   "outputs": [
    {
     "name": "stdout",
     "output_type": "stream",
     "text": [
      "{'math': 90, 'history': 80, 'english': 95, 'computer engineering': 100}\n"
     ]
    }
   ],
   "source": [
    "# 두 리스트를 하나의 dict로 합치는 DC. 하나는 key, 또 다른 하나는 value로 사용\n",
    "subjects = ['math', 'history', 'english', 'computer engineering']\n",
    "scores = [90, 80, 95, 100]\n",
    "score_dict = {key: value for key, value in zip(subjects, scores)}\n",
    "\n",
    "print(score_dict)"
   ]
  },
  {
   "cell_type": "code",
   "execution_count": 9,
   "metadata": {},
   "outputs": [
    {
     "name": "stdout",
     "output_type": "stream",
     "text": [
      "{'math': 90, 'history': 80, 'english': 95, 'computer engineering': 100}\n"
     ]
    }
   ],
   "source": [
    "# 튜플 리스트를 dict 형태로 변환하는 DC\n",
    "score_tuples = [('math', 90), ('history', 80), ('english', 95), ('computer engineering', 100)]\n",
    "score_dict = {t[0]: t[1] for t in score_tuples}\n",
    "\n",
    "print(score_dict)"
   ]
  },
  {
   "cell_type": "markdown",
   "metadata": {},
   "source": [
    "## Generator Expression (GE)\n",
    "- Generator expression은 특별한 형태의 comprehension\n",
    "- **한 번에 모든 원소를 반환하지 않고 한 번에 하나의 원소만 반환하는 generator를 생성가능**\n",
    "- GE로 생성한 Generator도 yield를 가진 함수로 생성한 것과 동일한 Generator이기 때문에, 똑같이 sum 함수 등 사용 가능\n"
   ]
  },
  {
   "cell_type": "code",
   "execution_count": 17,
   "metadata": {},
   "outputs": [
    {
     "name": "stdout",
     "output_type": "stream",
     "text": [
      "<generator object <genexpr> at 0x000001E26F8B85C8>\n",
      "call  1 번  0\n",
      "call  2 번  1\n",
      "call  3 번  4\n",
      "call  4 번  9\n",
      "call  5 번  16\n",
      "6 번째 오류발생\n"
     ]
    }
   ],
   "source": [
    "# 다음 Generator는 제곱수를 만들어낸다\n",
    "gen = (x**2 for x in range(5))\n",
    "print(gen)\n",
    "\n",
    "for i in range(6):\n",
    "    try:\n",
    "        print('call ', i+1, '번 ', next(gen)) # call 1\n",
    "    except:\n",
    "        print(i+1, '번째 오류발생')\n",
    "        pass\n",
    "    \n",
    "## ==> generator는 값 1개씩 반환"
   ]
  },
  {
   "cell_type": "code",
   "execution_count": 20,
   "metadata": {},
   "outputs": [
    {
     "name": "stdout",
     "output_type": "stream",
     "text": [
      "285\n"
     ]
    }
   ],
   "source": [
    "# GE로 생성한 Generator도 yield를 가진 함수로 생성한 것과 동일한 Generator이기 때문에, 똑같이 sum을 사용할 수 있다. (iterable 객체)\n",
    "gen2 = (x**2 for x in range(10))\n",
    "\n",
    "sum_of_squares = sum(gen2)\n",
    "\n",
    "print(sum_of_squares)"
   ]
  },
  {
   "cell_type": "markdown",
   "metadata": {},
   "source": [
    "## 출처"
   ]
  },
  {
   "cell_type": "markdown",
   "metadata": {},
   "source": [
    "- https://mingrammer.com/introduce-comprehension-of-python/\n",
    "- https://wikidocs.net/21057"
   ]
  }
 ],
 "metadata": {
  "kernelspec": {
   "display_name": "Python 3",
   "language": "python",
   "name": "python3"
  },
  "language_info": {
   "codemirror_mode": {
    "name": "ipython",
    "version": 3
   },
   "file_extension": ".py",
   "mimetype": "text/x-python",
   "name": "python",
   "nbconvert_exporter": "python",
   "pygments_lexer": "ipython3",
   "version": "3.7.5"
  }
 },
 "nbformat": 4,
 "nbformat_minor": 4
}
