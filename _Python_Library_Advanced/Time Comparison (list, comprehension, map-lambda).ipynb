{
 "cells": [
  {
   "cell_type": "markdown",
   "metadata": {},
   "source": [
    "## Time 비교 (list, Comprehension, map&lambda)\n",
    "\n",
    "- 일반방식\n",
    "- Comprehension 방식\n",
    "- map & lambda 방식"
   ]
  },
  {
   "cell_type": "code",
   "execution_count": 1,
   "metadata": {},
   "outputs": [
    {
     "name": "stdout",
     "output_type": "stream",
     "text": [
      "0.025931358337402344\n"
     ]
    }
   ],
   "source": [
    "# 일반 방식\n",
    "import time\n",
    "\n",
    "start_time = time.time()\n",
    "a = list(range(100000))\n",
    "a2 = list()\n",
    "\n",
    "for i in a:\n",
    "    a2.append(i*2)\n",
    "\n",
    "end_time = time.time() \n",
    "fin = end_time - start_time\n",
    "print(fin)"
   ]
  },
  {
   "cell_type": "code",
   "execution_count": 2,
   "metadata": {},
   "outputs": [
    {
     "name": "stdout",
     "output_type": "stream",
     "text": [
      "0.015958786010742188\n"
     ]
    }
   ],
   "source": [
    "# Comprehension 방법\n",
    "import time\n",
    "\n",
    "start_time = time.time()\n",
    "temp = [x*2 for x in range(100000)]\n",
    "end_time = time.time()\n",
    "fin = end_time - start_time\n",
    "print(fin)"
   ]
  },
  {
   "cell_type": "code",
   "execution_count": 4,
   "metadata": {},
   "outputs": [
    {
     "name": "stdout",
     "output_type": "stream",
     "text": [
      "0.003989458084106445\n"
     ]
    }
   ],
   "source": [
    "# map & lambda 함수\n",
    "import time\n",
    "\n",
    "start_time = time.time()\n",
    "a = list(range(100000))\n",
    "a2 = map(lambda n: n*2, a)\n",
    "end_time = time.time()\n",
    "\n",
    "fin = end_time - start_time\n",
    "print(fin)"
   ]
  },
  {
   "cell_type": "markdown",
   "metadata": {},
   "source": [
    "## 출처\n",
    "- https://wikidocs.net/21057"
   ]
  }
 ],
 "metadata": {
  "kernelspec": {
   "display_name": "Python 3",
   "language": "python",
   "name": "python3"
  },
  "language_info": {
   "codemirror_mode": {
    "name": "ipython",
    "version": 3
   },
   "file_extension": ".py",
   "mimetype": "text/x-python",
   "name": "python",
   "nbconvert_exporter": "python",
   "pygments_lexer": "ipython3",
   "version": "3.7.5"
  }
 },
 "nbformat": 4,
 "nbformat_minor": 4
}
