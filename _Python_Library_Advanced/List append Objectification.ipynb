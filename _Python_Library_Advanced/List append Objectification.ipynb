{
 "cells": [
  {
   "cell_type": "markdown",
   "metadata": {},
   "source": [
    "## List append 함수 조금더 효율적이게 쓰기\n",
    "- 객체 함수 부분과 실제 동작하는 부분을 나눔\n",
    "\n",
    "- (1) ls = list.append\n",
    "- (2) ls(i)\n"
   ]
  },
  {
   "cell_type": "code",
   "execution_count": 8,
   "metadata": {},
   "outputs": [
    {
     "name": "stdout",
     "output_type": "stream",
     "text": [
      "0.1356346607208252\n"
     ]
    }
   ],
   "source": [
    "import time\n",
    "\n",
    "ex = []\n",
    "\n",
    "start_time = time.time() # 시작 시간\n",
    "\n",
    "# append\n",
    "for i in range(1000000):\n",
    "    ex.append(i)\n",
    "    \n",
    "end_time = time.time() # 종료 시간\n",
    "print(end_time-start_time)"
   ]
  },
  {
   "cell_type": "code",
   "execution_count": 9,
   "metadata": {},
   "outputs": [
    {
     "name": "stdout",
     "output_type": "stream",
     "text": [
      "0.11269831657409668\n"
     ]
    }
   ],
   "source": [
    "import time\n",
    "\n",
    "ex = []\n",
    "ap = ex.append\n",
    "\n",
    "start_time = time.time() # 시작 시간\n",
    "\n",
    "# append\n",
    "for i in range(1000000):\n",
    "    ap(i)\n",
    "    \n",
    "end_time = time.time() # 종료 시간\n",
    "print(end_time-start_time)"
   ]
  }
 ],
 "metadata": {
  "kernelspec": {
   "display_name": "Python 3",
   "language": "python",
   "name": "python3"
  },
  "language_info": {
   "codemirror_mode": {
    "name": "ipython",
    "version": 3
   },
   "file_extension": ".py",
   "mimetype": "text/x-python",
   "name": "python",
   "nbconvert_exporter": "python",
   "pygments_lexer": "ipython3",
   "version": "3.7.5"
  }
 },
 "nbformat": 4,
 "nbformat_minor": 4
}
