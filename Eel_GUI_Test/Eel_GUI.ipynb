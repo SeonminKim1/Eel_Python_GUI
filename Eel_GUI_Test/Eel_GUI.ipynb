{
 "cells": [
  {
   "cell_type": "markdown",
   "metadata": {},
   "source": [
    "## Python HTML/JS 그래픽 인터페이스 Eel 라이브러리 \n",
    "- Python으로 일렉트론처럼 HTML과 자바스크립트로 구현가능한 GUI 그래픽 애플리케이션을 만들 수 있는 라이브러리인 Eel 사용\n",
    "- Python 으로 웹을 동작시키고, JavaScript를 이용하여 주고 받을 수 있음.\n",
    "\n",
    "### ◆ Library\n",
    "- import eel\n",
    "\n",
    "### ◆ Method\n",
    "\n",
    "#### Starting the app\n",
    "- eel.init('web')\n",
    "\n",
    "- @eel.expose\n",
    "    - 함수 위에 쓰며, 그 함수를 상대방이 쓸수 있게 공개하는 것\n",
    "    - 보낼 때 @eel.expose 아랫줄에 function method ~\n",
    "    - 상대쪽에서 받을 때 eel.function_name 이렇게 받음\n",
    "    \n",
    "- eel.start(mode, host, port, size, position) \n",
    "    - mode:'chrome', 'ekectron','edge','custom' / Default:chrome\n",
    "      \n",
    "\n",
    "### ◆ Link\n",
    "- http://localhost:8000\n",
    "- http://localhost:8000/main.html.\n",
    "\n",
    "### ◆ Eel 링크\n",
    "- https://github.com/samuelhwilliams/Eel // Eel git_hub\n"
   ]
  },
  {
   "cell_type": "code",
   "execution_count": 1,
   "metadata": {},
   "outputs": [
    {
     "name": "stdout",
     "output_type": "stream",
     "text": [
      "Hello Fucking python World!\n",
      "---\n",
      "Hello Javascript World!\n"
     ]
    },
    {
     "ename": "SystemExit",
     "evalue": "",
     "output_type": "error",
     "traceback": [
      "An exception has occurred, use %tb to see the full traceback.\n",
      "\u001b[1;31mSystemExit\u001b[0m\n"
     ]
    },
    {
     "name": "stderr",
     "output_type": "stream",
     "text": [
      "c:\\users\\urse\\anaconda3\\envs\\untitled\\lib\\site-packages\\IPython\\core\\interactiveshell.py:3339: UserWarning: To exit: use 'exit', 'quit', or Ctrl-D.\n",
      "  warn(\"To exit: use 'exit', 'quit', or Ctrl-D.\", stacklevel=1)\n"
     ]
    }
   ],
   "source": [
    "# helloworld\n",
    "import eel\n",
    "\n",
    "eel.init('web')\n",
    "\n",
    "# say_hello_py 노출시키는 것\n",
    "@eel.expose\n",
    "def say_hello_py(x):\n",
    "    print('Hello %s' % x)\n",
    "\n",
    "# python 함수 Call\n",
    "say_hello_py('Fucking python World!')\n",
    "print('---')\n",
    "\n",
    "# JavaScript 함수 \n",
    "# js서 함수 expose 해놔야 되고. 그 매개체로 eel로 받아옴.\n",
    "eel.say_hello_js('Python World!') # Call a JavaScript function\n",
    "\n",
    "''' js 형태 (Hello 붙여서 출력해주는 것)\n",
    "      function say_hello_js(x) {\n",
    "        console.log(\"Hello \" + x);\n",
    "      }\n",
    "\n",
    "'''\n",
    "\n",
    "eel.start('helloworld.html', size=(300, 200))"
   ]
  },
  {
   "cell_type": "code",
   "execution_count": null,
   "metadata": {},
   "outputs": [],
   "source": [
    "##### helloworld.html\n",
    "<!DOCTYPE html>\n",
    "<html lang=\"en\">\n",
    "  <head>\n",
    "    <meta charset=\"UTF-8\" />\n",
    "    <title>Title</title>\n",
    "    <script type=\"text/javascript\" src=\"/eel.js\"></script>\n",
    "    <script type=\"text/javascript\">\n",
    "      \n",
    "      ## 똑같이 expose로 say_hello_js 노출\n",
    "      eel.expose(say_hello_js);\n",
    "\n",
    "      function say_hello_js(x) {\n",
    "        console.log(\"Hello \" + x);\n",
    "      }\n",
    "\n",
    "      say_hello_js(\"Javascript World!\");\n",
    "      eel.say_hello_py(\"Javascript World!\");\n",
    "    </script>\n",
    "  </head>\n",
    "  <body>\n",
    "    <p>Hello, World!</p>\n",
    "  </body>\n",
    "</html>"
   ]
  },
  {
   "cell_type": "code",
   "execution_count": 3,
   "metadata": {},
   "outputs": [
    {
     "name": "stdout",
     "output_type": "stream",
     "text": [
      "something what?\n",
      "Fucking Shat ~~~\n"
     ]
    },
    {
     "ename": "SystemExit",
     "evalue": "",
     "output_type": "error",
     "traceback": [
      "An exception has occurred, use %tb to see the full traceback.\n",
      "\u001b[1;31mSystemExit\u001b[0m\n"
     ]
    }
   ],
   "source": [
    "# input \n",
    "import eel\n",
    "\n",
    "eel.init('web')\n",
    "\n",
    "@eel.expose\n",
    "def handle_input(x):\n",
    "    print('%s' % x)\n",
    "    \n",
    "eel.start('input.html', size=(500, 200))\n"
   ]
  },
  {
   "cell_type": "code",
   "execution_count": null,
   "metadata": {},
   "outputs": [],
   "source": [
    "# input.html\n",
    "<!DOCTYPE html>\n",
    "<html>\n",
    "  <head>\n",
    "    <script\n",
    "      src=\"https://code.jquery.com/jquery-3.2.1.slim.min.js\"\n",
    "      integrity=\"sha384-KJ3o2DKtIkvYIK3UENzmM7KCkRr/rE9/Qpg6aAZGJwFDMVNA/GpGFF93hXpG5KkN\"\n",
    "      crossorigin=\"anonymous\"\n",
    "    ></script>\n",
    "    <script type=\"text/javascript\" src=\"/eel.js\"></script>\n",
    "    <script type=\"text/javascript\">\n",
    "      $(function() {\n",
    "        $(\"#btn\").click(function() {\n",
    "          eel.handle_input($(\"#inp\").val());\n",
    "        });\n",
    "      });\n",
    "    </script>\n",
    "  </head>\n",
    "\n",
    "  <body>\n",
    "    <div>\n",
    "      <input type=\"text\" id=\"inp\" placeholder=\"Write anything\" />\n",
    "      <input type=\"button\" id=\"btn\" class=\"btn btn-primary\" value=\"Submit\" />\n",
    "    </div>\n",
    "  </body>\n",
    "</html>"
   ]
  }
 ],
 "metadata": {
  "kernelspec": {
   "display_name": "Python 3",
   "language": "python",
   "name": "python3"
  },
  "language_info": {
   "codemirror_mode": {
    "name": "ipython",
    "version": 3
   },
   "file_extension": ".py",
   "mimetype": "text/x-python",
   "name": "python",
   "nbconvert_exporter": "python",
   "pygments_lexer": "ipython3",
   "version": "3.7.5"
  }
 },
 "nbformat": 4,
 "nbformat_minor": 4
}
