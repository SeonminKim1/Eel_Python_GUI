{
 "cells": [
  {
   "cell_type": "code",
   "execution_count": 1,
   "metadata": {},
   "outputs": [
    {
     "name": "stdout",
     "output_type": "stream",
     "text": [
      "1 바라만 본다 MSG워너비 (M.O.M)\n",
      "2 Next Level aespa\n",
      "3 신호등 이무진\n",
      "4 Weekend 태연 (TAEYEON)\n",
      "5 치맛바람 (Chi Mat Ba Ram) 브레이브걸스 (Brave girls)\n",
      "6 Butter 방탄소년단\n",
      "7 나를 아는 사람 MSG워너비 (정상동기)\n",
      "8 Permission to Dance 방탄소년단\n",
      "9 비 오는 날 듣기 좋은 노래 (Feat. Colde) 에픽하이 (EPIK HIGH)\n",
      "10 헤픈 우연 헤이즈 (Heize)\n",
      "11 하루만 더 빅마마 (Big Mama)\n",
      "12 비와 당신 이무진\n",
      "13 Alcohol-Free TWICE (트와이스)\n",
      "14 롤린 (Rollin') 브레이브걸스 (Brave girls)\n",
      "15 19금\n",
      "                                            \n",
      "                                        \n",
      "                                        \n",
      "                                    \n",
      "                                    Peaches (Feat. Daniel Caesar & Giveon) Justin Bieber\n",
      "16 Dun Dun Dance 오마이걸 (OH MY GIRL)\n",
      "17 Dynamite 방탄소년단\n",
      "18 라일락 아이유 (IU)\n",
      "19 안녕 (Hello) 조이 (JOY)\n",
      "20 추적이는 여름 비가 되어 장범준\n",
      "21 운전만해 (We Ride) 브레이브걸스 (Brave girls)\n",
      "22 Celebrity 아이유 (IU)\n",
      "23 러브 (Prod. by 로코베리) 로꼬 & 이성경\n",
      "24 Bad Habits Ed Sheeran\n",
      "25 상상더하기 MSG워너비\n",
      "26 ASAP STAYC (스테이씨)\n",
      "27 상상더하기 라붐 (LABOUM)\n",
      "28 밤이 되니까 원슈타인\n",
      "29 Timeless SG워너비\n",
      "30 좋아좋아 조정석\n",
      "31 Savage Love (Laxed - Siren Beat) (BTS Remix) Jawsh 685 & Jason Derulo & 방탄소년단\n",
      "32 다정히 내 이름을 부르면 경서예지 & 전건호\n",
      "33 내 손을 잡아 아이유 (IU)\n",
      "34 사이렌 Remix (Feat. UNEDUCATED KID & Paul Blanco) 호미들\n",
      "35 At My Worst Pink Sweat$\n",
      "36 작은 것들을 위한 시 (Boy With Luv) (Feat. Halsey) 방탄소년단\n",
      "37 OHAYO MY NIGHT 디핵 (D-Hack) & PATEKO\n",
      "38 가을 우체국 앞에서 김대명\n",
      "39 나는 너 좋아 장범준\n",
      "40 멜로디 ASH ISLAND\n",
      "41 Blueming 아이유 (IU)\n",
      "42 밝게 빛나는 별이 되어 비춰줄게 송이한\n",
      "43 에잇 (Prod. & Feat. SUGA of BTS) 아이유 (IU)\n",
      "44 2002 Anne-Marie\n",
      "45 LOVE DAY (2021) (바른연애 길잡이 X 양요섭, 정은지) 양요섭 & 정은지\n",
      "46 아로하 조정석\n",
      "47 흔들리는 꽃들 속에서 네 샴푸향이 느껴진거야 장범준\n",
      "48 이제 나만 믿어요 임영웅\n",
      "49 낙하 (With 아이유) AKMU (악뮤)\n",
      "50 Off My Face Justin Bieber\n"
     ]
    }
   ],
   "source": [
    "import requests\n",
    "from bs4 import BeautifulSoup\n",
    "\n",
    "headers = {'User-Agent' : 'Mozilla/5.0 (Windows NT 10.0; Win64; x64)AppleWebKit/537.36 (KHTML, like Gecko) Chrome/73.0.3683.86 Safari/537.36'}\n",
    "data = requests.get('https://www.genie.co.kr/chart/top200?ditc=M&rtm=N&ymd=20210701',headers=headers)\n",
    "\n",
    "soup = BeautifulSoup(data.text, 'html.parser')\n",
    "\n",
    "trs = soup.select('#body-content > div.newest-list > div > table > tbody > tr')\n",
    "\n",
    "for tr in trs:\n",
    "    title = tr.select_one('td.info > a.title.ellipsis').text.strip()\n",
    "    rank = tr.select_one('td.number').text[0:2].strip()\n",
    "    artist = tr.select_one('td.info > a.artist.ellipsis').text\n",
    "    print(rank, title, artist)"
   ]
  }
 ],
 "metadata": {
  "interpreter": {
   "hash": "addd9b989c499b16a5bc4b54c86abb1f12e90eb6082eff1495b1e5d1e997ee03"
  },
  "kernelspec": {
   "display_name": "Python 3.8.5 ('seonmin')",
   "language": "python",
   "name": "python3"
  },
  "language_info": {
   "codemirror_mode": {
    "name": "ipython",
    "version": 3
   },
   "file_extension": ".py",
   "mimetype": "text/x-python",
   "name": "python",
   "nbconvert_exporter": "python",
   "pygments_lexer": "ipython3",
   "version": "3.8.5"
  },
  "orig_nbformat": 4
 },
 "nbformat": 4,
 "nbformat_minor": 2
}
