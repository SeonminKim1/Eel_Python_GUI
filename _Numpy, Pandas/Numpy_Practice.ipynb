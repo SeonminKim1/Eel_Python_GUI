{
 "cells": [
  {
   "cell_type": "markdown",
   "metadata": {},
   "source": [
    "### Numpy(Numerical Python)\n",
    "- 파이썬에서 산술 계산을 위한 가장 중요한 필수 패키지\n",
    "\n",
    "### 리스트와 차이점\n",
    "- 리스트와는 달리 모든 원소가 같은 자료형이어야 하고\n",
    "- 원소의 갯수를 바꿀 수 없다.\n",
    "\n",
    "### 기능\n",
    "- 다차원 배열은 ndarray를 통해 빠른 배열 계산과 유연한 브로드캐스팅(크기가 다른 배열 간 연산) 기능 제공\n",
    "- 반복문 작성 필요없이 전체 데이터 배열에 수학함수 적용 가능\n",
    "- C / C++ API 포트란으로 작성한 코드를 연결할 수 있는 C API\n",
    "- 선형대수, 난수 생성기, 푸리에 변환 등 가능\n",
    "- Numpy 자체는 모델링이나 과학 계산을 위한 기능을 제공하지 않으므로 먼저 Numpy 배열과 배열 기반 연산에 대한 이해를 한 다음 pandas 가틍ㄴ 배열 기반 도구를 사용하면 훨씬 더 효율적일 것임\n",
    "- 대용량 데이터 배열을 효율적으로 다룰 수 있도록 설계됨\n",
    "- Numpy는 내부적으로 데이터를 다른 내장 파이썬 객체와 구분된 연속돈 메모리 블록에 저장하며 Numpy의 각종 알고리즘은 모두 C로 작성되어 타입 검사나 다른 오버헤드 없이 메모리를 직접 조작할 수 있다. Numpy 배열은 내장 파이썬의 연속된 자료형들보다 훨씬 더 적은 메모리를 사용한다.\n",
    "- 대부분 수치 계산은 ndarray연산이 파이썬 반복문보다 훨씬 빨라서 대부분 수치 계산은 파이썬 반복문 대신 Numpy 벡터 연산을 수행함.\n",
    "- 더 빠른 이유는 numpy 벡터 계산은 C로 구현되어있고, for반복은 CPython 인터프리터의 저수준 연산과 연관.\n",
    "- 파이썬 리스트에서 원소는 메모리에 산발적으로 저장. 배열은 메모리의 접경블록에 저장. 데이터가 연속해서 있어서 더 효과적으로 로딩 가능.\n"
   ]
  },
  {
   "cell_type": "code",
   "execution_count": 1,
   "metadata": {},
   "outputs": [
    {
     "name": "stdout",
     "output_type": "stream",
     "text": [
      "Wall time: 32 ms\n"
     ]
    }
   ],
   "source": [
    "# 1. Numpy 속도 비교\n",
    "# Numpy로 작성한 코드가 순수 파이썬으로 작성한 코드보다 훨씬 빠르다.\n",
    "import numpy as np\n",
    "\n",
    "arr1 = np.arange(1000000)\n",
    "%time for _ in range(10): arr1 = arr1*2    "
   ]
  },
  {
   "cell_type": "code",
   "execution_count": 2,
   "metadata": {},
   "outputs": [
    {
     "name": "stdout",
     "output_type": "stream",
     "text": [
      "Wall time: 1min 30s\n"
     ]
    }
   ],
   "source": [
    "arr2 = list(range(1000000))\n",
    "%time for _ in range(10): arr2 = arr2*2"
   ]
  },
  {
   "cell_type": "code",
   "execution_count": 3,
   "metadata": {},
   "outputs": [
    {
     "name": "stdout",
     "output_type": "stream",
     "text": [
      "np.array\n",
      " [[-0.06071368  0.5829372  -0.14421516]\n",
      " [ 1.0591361  -0.43917934  1.43686199]] \n",
      "\n",
      "np.arange\n",
      " [ 0  1  2  3  4  5  6  7  8  9 10 11 12 13 14] \n",
      "\n",
      "np.zeros\n",
      " [[0. 0. 0. 0.]\n",
      " [0. 0. 0. 0.]\n",
      " [0. 0. 0. 0.]] \n",
      "\n",
      "np.empty\n",
      " [[[6.69685062e-312 3.16202013e-322]\n",
      "  [0.00000000e+000 0.00000000e+000]\n",
      "  [0.00000000e+000 6.87432364e-038]]\n",
      "\n",
      " [[4.50333499e+174 1.25666731e-075]\n",
      "  [1.15393322e-071 1.10659500e+165]\n",
      "  [2.95005369e+179 5.94199602e-038]]] \n",
      "\n",
      "np.eyes\n",
      " [[1. 0. 0.]\n",
      " [0. 1. 0.]\n",
      " [0. 0. 1.]] \n",
      "\n"
     ]
    }
   ],
   "source": [
    "# 2. ndarray 배열 생성 함수\n",
    "\n",
    "# (1) array\n",
    "data1 = np.random.randn(2,3)\n",
    "n_arr1 = np.array(data1)\n",
    "\n",
    "# (2) arange\n",
    "n_arr2 = np.arange(15)\n",
    "\n",
    "# (3) zeros, empty, ones\n",
    "n_arr3 = np.zeros((3,4))\n",
    "n_arr4 = np.empty((2,3,2))\n",
    "\n",
    "# (4) eye\n",
    "n_arr5 = np.eye(3)\n",
    "\n",
    "print('np.array\\n',n_arr1,'\\n')\n",
    "print('np.arange\\n', n_arr2,'\\n')\n",
    "print('np.zeros\\n', n_arr3,'\\n')\n",
    "print('np.empty\\n', n_arr4,'\\n')\n",
    "print('np.eyes\\n', n_arr5,'\\n')"
   ]
  },
  {
   "cell_type": "code",
   "execution_count": 4,
   "metadata": {},
   "outputs": [
    {
     "name": "stdout",
     "output_type": "stream",
     "text": [
      "[[0 1 2 3]\n",
      " [4 5 6 7]] \n",
      "\n",
      "[[0 0 0 0]\n",
      " [0 0 0 0]] \n",
      "\n",
      "[[1 1 1 1]\n",
      " [1 1 1 1]] \n",
      "\n",
      "[[1 0 1 0]\n",
      " [0 0 0 0]] \n",
      "\n"
     ]
    }
   ],
   "source": [
    "# 2. ndarray 배열 생성 함수 2\n",
    "# 기존있던 배열을 zeros or ones, empyt 배열로 리턴\n",
    "# np.zeros_like(), np.ones_like(), np.empty_like()\n",
    "\n",
    "# return an arrary of zeros with the same shape and type\n",
    "a = np.array([[0,1,2,3],[4,5,6,7]])\n",
    "print(a, '\\n')\n",
    "\n",
    "b = np.zeros_like(a)\n",
    "print(b, '\\n')\n",
    "\n",
    "c = np.ones_like(a)\n",
    "print(c, '\\n')\n",
    "\n",
    "d = np.empty_like(a)\n",
    "print(d, '\\n')"
   ]
  },
  {
   "cell_type": "code",
   "execution_count": 5,
   "metadata": {},
   "outputs": [
    {
     "name": "stdout",
     "output_type": "stream",
     "text": [
      "[1. 2. 3. 4. 5.]\n"
     ]
    }
   ],
   "source": [
    "# 3. 형변환\n",
    "n_arr6 = np.array([1,2,3,4,5])\n",
    "n_arr6 = n_arr6.astype(np.float64)\n",
    "print(n_arr6)"
   ]
  },
  {
   "cell_type": "code",
   "execution_count": 6,
   "metadata": {},
   "outputs": [
    {
     "name": "stdout",
     "output_type": "stream",
     "text": [
      "np - 곱\n",
      " [[ 2  8  6]\n",
      " [12 35 30]] \n",
      "\n",
      "np - 나누기\n",
      " [[0.5        0.5        1.5       ]\n",
      " [1.33333333 0.71428571 1.2       ]] \n",
      "\n",
      "np - 비교\n",
      " [[False False  True]\n",
      " [ True False  True]] \n",
      "\n"
     ]
    }
   ],
   "source": [
    "# 4. Numpy의 산술연산\n",
    "# for문 작성 없이 데이터를 일괄 처리 가능. 이를 벡터화라고 하며 같은 크기의 배열간의 산술연산은 각 원소 단위로 적용됨.\n",
    "n_arr7 = np.array([[1,2,3], [4,5,6]])\n",
    "n_arr8 = np.array([[2,4,2], [3,7,5]])\n",
    "n_arr9 = n_arr7 * n_arr8\n",
    "n_arr10 = n_arr7 / n_arr8\n",
    "n_arr11 = n_arr7 > n_arr8\n",
    "\n",
    "print('np - 곱\\n', n_arr9,'\\n')\n",
    "print('np - 나누기\\n',n_arr10,'\\n')\n",
    "print('np - 비교\\n',n_arr11,'\\n')\n"
   ]
  },
  {
   "cell_type": "code",
   "execution_count": 7,
   "metadata": {},
   "outputs": [
    {
     "name": "stdout",
     "output_type": "stream",
     "text": [
      "뷰용 슬라이싱 본\n",
      " [13 13 13] \n",
      "\n",
      "원본\n",
      " [ 0  1  2  3  4 13 13 13  8  9] \n",
      "\n",
      "뷰용 슬라이싱 본\n",
      " [14 14 14] \n",
      "\n",
      "원본\n",
      " [ 0  1  2  3  4 13 13 13  8  9] \n",
      "\n",
      "2차원배열 인덱싱 1 -> n_arr15[0][2] \n",
      " 3\n",
      "2차원배열 인덱싱 2 -> n_arr15[0,2] \n",
      " 3\n",
      "2차원배열 인덱싱 3 -> n_arr15[:2] \n",
      " [[1 2 3]\n",
      " [4 5 6]]\n",
      "2차원배열 인덱싱 4 -> n_arr15[:2, :1] \n",
      " [[1]\n",
      " [4]]\n",
      "2차원배열 인덱싱 5 -> n_arr15[1, :2] \n",
      " [4 5]\n",
      "2차원배열 인덱싱 6 -> n_arr15[:, :1] \n",
      " [[1]\n",
      " [4]\n",
      " [7]]\n"
     ]
    }
   ],
   "source": [
    "# 5. 색인과 슬라이싱 기초\n",
    "# Numpy는 대용량 데이터 처리를 염두에 두고 설계되었기 때문에 복사를 함부로 남발하지 않음.\n",
    "# 색인과 슬라이싱은 데이터는 공통인 뷰 위주의 개념\n",
    "# 복사를 하고 싶다면 copy() 를 이용해야 함.\n",
    "# 슬라이싱 대상에 값을 대입하면 모두가 반영된다.\n",
    "\n",
    "# (1) 슬라이싱 참조\n",
    "n_arr12 = np.arange(10)\n",
    "n_arr13 = n_arr12[5:8]\n",
    "n_arr13[:] = 13\n",
    "\n",
    "print('뷰용 슬라이싱 본\\n', n_arr13,'\\n')\n",
    "print('원본\\n', n_arr12,'\\n')\n",
    "\n",
    "# (2) copy 배열 복사\n",
    "n_arr14 = n_arr12[2:5].copy()\n",
    "n_arr14[:] = 14\n",
    "\n",
    "print('뷰용 슬라이싱 본\\n', n_arr14,'\\n')\n",
    "print('원본\\n', n_arr12,'\\n')\n",
    "\n",
    "# (3) 2중 배열\n",
    "n_arr15 = np.array([[1,2,3],[4,5,6],[7,8,9]])\n",
    "print('2차원배열 인덱싱 1 -> n_arr15[0][2] \\n', n_arr15[0][2])\n",
    "print('2차원배열 인덱싱 2 -> n_arr15[0,2] \\n', n_arr15[0,2])\n",
    "print('2차원배열 인덱싱 3 -> n_arr15[:2] \\n', n_arr15[:2])\n",
    "print('2차원배열 인덱싱 4 -> n_arr15[:2, :1] \\n', n_arr15[:2, :1])\n",
    "print('2차원배열 인덱싱 5 -> n_arr15[1, :2] \\n', n_arr15[1, :2])\n",
    "print('2차원배열 인덱싱 6 -> n_arr15[:, :1] \\n', n_arr15[:, :1])"
   ]
  },
  {
   "cell_type": "code",
   "execution_count": 8,
   "metadata": {},
   "outputs": [
    {
     "name": "stdout",
     "output_type": "stream",
     "text": [
      "names==Bob ->  [ True False False  True False False False]\n",
      "names==Bob ->  [False  True  True False  True  True  True]\n",
      "names[~(names=='Bob')] ['Joe' 'Will' 'Will' 'Joe' 'Joe']\n",
      "(names=='Bob' or names=='Will') [ True False  True  True  True False False] \n",
      "\n",
      "n_array16[names=='Bob',:2] \n",
      " [[ 0.1236769  -0.41454171]\n",
      " [ 1.35987366  2.48318792]] \n",
      "\n",
      "n_array16[~(names=='Bob')] \n",
      " [[-0.63521073 -1.11053644 -0.79936044  1.23315772]\n",
      " [-0.2079415   0.32299056  0.25928775 -0.16520474]\n",
      " [ 0.29979429 -0.35782609 -0.50541548 -0.40379299]\n",
      " [-0.47162715 -0.59737864 -1.4297279  -0.053174  ]\n",
      " [ 0.49551501  1.24921734  0.26086481  0.30761995]] \n",
      "\n"
     ]
    }
   ],
   "source": [
    "# 6. 불리언 값으로 선택하기\n",
    "names = np.array(['Bob', 'Joe', 'Will', 'Bob', 'Will', 'Joe','Joe'])\n",
    "n_array16 = np.random.randn(7, 4)\n",
    "\n",
    "print('names==Bob -> ', names=='Bob')\n",
    "print('names==Bob -> ', names!='Bob')\n",
    "print(\"names[~(names=='Bob')]\", names[~(names=='Bob')])\n",
    "print(\"(names=='Bob' or names=='Will')\", ((names=='Bob') | (names=='Will')), '\\n')\n",
    "\n",
    "n_array17 = n_array16[names =='Bob', 2:] # 0행, 3행 중 2열 전까지\n",
    "n_array18 = n_array16[~(names=='Bob')]\n",
    "\n",
    "print(\"n_array16[names=='Bob',:2] \\n\", n_array17,'\\n')\n",
    "print(\"n_array16[~(names=='Bob')] \\n\", n_array18,'\\n')\n"
   ]
  },
  {
   "cell_type": "code",
   "execution_count": 9,
   "metadata": {},
   "outputs": [
    {
     "name": "stdout",
     "output_type": "stream",
     "text": [
      "[[ 0  1  2  3]\n",
      " [ 4  5  6  7]\n",
      " [ 8  9 10 11]\n",
      " [12 13 14 15]\n",
      " [16 17 18 19]\n",
      " [20 21 22 23]\n",
      " [24 25 26 27]\n",
      " [28 29 30 31]] \n",
      "\n",
      "[[ 4  7  5  6]\n",
      " [20 23 21 22]\n",
      " [28 31 29 30]\n",
      " [ 8 11  9 10]]\n",
      "[[ 0  1  2  3]\n",
      " [ 4  5  6  7]\n",
      " [ 8  9 10 11]\n",
      " [12 13 14 15]\n",
      " [16 17 18 19]\n",
      " [20 21 22 23]\n",
      " [24 25 26 27]\n",
      " [28 29 30 31]] \n",
      "\n",
      "[[ 0  4  8 12 16 20 24 28]\n",
      " [ 1  5  9 13 17 21 25 29]\n",
      " [ 2  6 10 14 18 22 26 30]\n",
      " [ 3  7 11 15 19 23 27 31]] \n",
      "\n"
     ]
    }
   ],
   "source": [
    "# 7. 팬시 색인\n",
    "\n",
    "# reshape\n",
    "n_array19 = np.arange(32).reshape((8,4))\n",
    "print(n_array19, '\\n')\n",
    "\n",
    "# reshape2\n",
    "print(n_array19[[1,5,7,2]][:, [0,3,1,2]])\n",
    "print(n_array19, '\\n')\n",
    "\n",
    "# T (전치행렬)\n",
    "print(n_array19.T, '\\n')"
   ]
  },
  {
   "cell_type": "code",
   "execution_count": 10,
   "metadata": {},
   "outputs": [
    {
     "name": "stdout",
     "output_type": "stream",
     "text": [
      "n_array20 [-1.04957009 -0.8187111   2.14355602  0.44073524 -1.03521395  1.11167796\n",
      "  0.04178058 -0.33679336] \n",
      "\n",
      "n_array21 [-1.0495776  -0.10278616  0.31120892  0.56465492 -0.22729079 -0.56267812\n",
      " -0.79805307  0.41793305] \n",
      "\n",
      "sqrt(n_array20) [       nan        nan 1.4640888  0.66387893        nan 1.0543614\n",
      " 0.20440299        nan] \n",
      "\n",
      "exp(n_array20) [0.35008822 0.44099969 8.52971559 1.55384925 0.35515039 3.0394542\n",
      " 1.04266568 0.71405638] \n",
      "\n",
      "ceil(n_array20) [-1. -0.  3.  1. -1.  2.  1. -0.] \n",
      "\n",
      "floor(n_array21) [-2. -1.  0.  0. -1. -1. -1.  0.] \n",
      "\n",
      "abs(n_array21) [1.0495776  0.10278616 0.31120892 0.56465492 0.22729079 0.56267812\n",
      " 0.79805307 0.41793305] \n",
      "\n",
      "maximum(n_array20, n_array21) [-1.04957009 -0.10278616  2.14355602  0.56465492 -0.22729079  1.11167796\n",
      "  0.04178058  0.41793305] \n",
      "\n",
      "subtract(n_array20, n_array21) [ 7.50727644e-06 -7.15924938e-01  1.83234710e+00 -1.23919686e-01\n",
      " -8.07923160e-01  1.67435608e+00  8.39833656e-01 -7.54726410e-01] \n",
      "\n",
      "divide(n_array20, n_array21) [ 0.99999285  7.96518809  6.88783606  0.78053909  4.55457934 -1.97569074\n",
      " -0.05235314 -0.80585482] \n",
      "\n",
      "power(n_array20, n_array21) [        nan         nan  1.26780399  0.62962683         nan  0.9421686\n",
      " 12.60478756         nan] \n",
      "\n",
      "mod(n_array20, n_array21) [-1.04957009 -0.09920798  0.2763025   0.44073524 -0.12605078 -0.01367829\n",
      " -0.75627249  0.08113969] \n",
      "\n",
      "modf(n_array21) -> remainder, interger part (array([-0.0495776 , -0.10278616,  0.31120892,  0.56465492, -0.22729079,\n",
      "       -0.56267812, -0.79805307,  0.41793305]), array([-1., -0.,  0.,  0., -0., -0., -0.,  0.]))\n"
     ]
    },
    {
     "name": "stderr",
     "output_type": "stream",
     "text": [
      "c:\\users\\urse\\anaconda3\\envs\\untitled\\lib\\site-packages\\ipykernel_launcher.py:9: RuntimeWarning: invalid value encountered in sqrt\n",
      "  if __name__ == '__main__':\n",
      "c:\\users\\urse\\anaconda3\\envs\\untitled\\lib\\site-packages\\ipykernel_launcher.py:18: RuntimeWarning: invalid value encountered in power\n"
     ]
    }
   ],
   "source": [
    "# 8. 유니버셜 함수\n",
    "# 각 배열의 원소를 빠르게 처리하는 함수 \n",
    "# 단항 유니버설, 이항 유니버셜(두개로 1개 반환)\n",
    "n_array20 = np.random.randn(8)\n",
    "n_array21 = np.random.randn(8)\n",
    "print('n_array20', n_array20,'\\n')\n",
    "print('n_array21', n_array21,'\\n')\n",
    "\n",
    "print('sqrt(n_array20)', np.sqrt(n_array20),'\\n')\n",
    "print('exp(n_array20)', np.exp(n_array20),'\\n')\n",
    "print('ceil(n_array20)', np.ceil(n_array20),'\\n')\n",
    "print('floor(n_array21)', np.floor(n_array21),'\\n')\n",
    "print('abs(n_array21)', np.abs(n_array21),'\\n')\n",
    "\n",
    "print('maximum(n_array20, n_array21)', np.maximum(n_array20, n_array21),'\\n')\n",
    "print('subtract(n_array20, n_array21)', np.subtract(n_array20, n_array21),'\\n')\n",
    "print('divide(n_array20, n_array21)', np.divide(n_array20, n_array21),'\\n') # 나누기\n",
    "print('power(n_array20, n_array21)', np.power(n_array20, n_array21),'\\n') # 제곱\n",
    "print('mod(n_array20, n_array21)', np.mod(n_array20, n_array21),'\\n') # 나눈 나머지\n",
    "\n",
    "# 정수부분과 소수자리 구분\n",
    "print('modf(n_array21) -> remainder, interger part', np.modf(n_array21))"
   ]
  },
  {
   "cell_type": "code",
   "execution_count": 11,
   "metadata": {},
   "outputs": [
    {
     "name": "stdout",
     "output_type": "stream",
     "text": [
      "[[-1.45949107  0.04190371  0.59360323 -0.4956279 ]\n",
      " [ 0.30088896  0.49638894 -1.32284333  0.19935317]\n",
      " [-0.27684777  0.20527407  0.08807781 -1.35845344]\n",
      " [-0.17334686 -0.00352611 -0.23921944  0.51301738]] \n",
      "\n",
      "[[-1  1  1 -1]\n",
      " [ 1  1 -1  1]\n",
      " [-1  1  1 -1]\n",
      " [-1 -1 -1  1]] \n",
      "\n",
      "[[-1.45949107 -1.         -1.         -0.4956279 ]\n",
      " [-1.         -1.         -1.32284333 -1.        ]\n",
      " [-0.27684777 -1.         -1.         -1.35845344]\n",
      " [-0.17334686 -0.00352611 -0.23921944 -1.        ]]\n"
     ]
    }
   ],
   "source": [
    "# 9. 배열로 조건절 표현\n",
    "# np.where\n",
    "data = np.random.randn(4,4)\n",
    "\n",
    "n_array22 = np.where(data>0, 1, -1)\n",
    "n_array23 = np.where(data>0, -1, data)\n",
    "print(data,'\\n')\n",
    "print(n_array22,'\\n')\n",
    "print(n_array23)"
   ]
  },
  {
   "cell_type": "code",
   "execution_count": 12,
   "metadata": {},
   "outputs": [
    {
     "name": "stdout",
     "output_type": "stream",
     "text": [
      "n_array24\n",
      " [[ 0.08837586  0.30427189 -0.83521569]\n",
      " [-1.10230965 -1.75566067 -0.69849754]\n",
      " [ 1.33948255 -0.31987353 -1.29133309]]\n",
      "n_array24.mean() ->  -0.47452887496244794\n",
      "n_array24.mean(axis=0) ->  [ 0.10851625 -0.59042077 -0.94168211]\n",
      "n_array24.mean(axis=1) ->  [-0.14752265 -1.18548929 -0.09057469] \n",
      "\n",
      "n_array24.sum() ->  -4.270759874662032\n",
      "n_array24.sum(axis=0) ->  [ 0.32554876 -1.77126231 -2.82504632]\n",
      "n_array24.sum(axis=1) ->  [-0.44256794 -3.55646786 -0.27172407] \n",
      "\n",
      "n_array25\n",
      " [[17  5  9]\n",
      " [ 8  2  4]\n",
      " [ 6 15  3]]\n",
      "n_array25.argmin() ->  4\n",
      "n_array25.argmin(axis=0) ->  [2 1 2]\n",
      "n_array25.argmin(axis=1) ->  [1 1 2] \n",
      "\n",
      "n_array25.cumsum() \n",
      "->  [17 22 31 39 41 45 51 66 69]\n",
      "n_array25.cumsum(axis=0) \n",
      " [[17  5  9]\n",
      " [25  7 13]\n",
      " [31 22 16]]\n",
      "n_array25.cumsum(axis=1) \n",
      " [[17 22 31]\n",
      " [ 8 10 14]\n",
      " [ 6 21 24]] \n",
      "\n"
     ]
    }
   ],
   "source": [
    "# 10. 통계적 표현\n",
    "n_array24 = np.random.randn(3,3)\n",
    "print('n_array24\\n', n_array24)\n",
    "print('n_array24.mean() -> ', n_array24.mean())\n",
    "print('n_array24.mean(axis=0) -> ', n_array24.mean(axis=0)) # 열 별로의 평균\n",
    "print('n_array24.mean(axis=1) -> ', n_array24.mean(axis=1),'\\n') # 행 별로의 평균\n",
    "\n",
    "print('n_array24.sum() -> ', n_array24.sum())\n",
    "print('n_array24.sum(axis=0) -> ', n_array24.sum(axis=0)) # 열 별로의 합\n",
    "print('n_array24.sum(axis=1) -> ', n_array24.sum(axis=1),'\\n') # 행 별로의 합\n",
    "\n",
    "n_array25 = np.array([[17,5,9],[8,2,4],[6,15,3]])\n",
    "print('n_array25\\n', n_array25)\n",
    "# 최솟값 인덱스 (최댓값인덱스 - argmax)\n",
    "print('n_array25.argmin() -> ', n_array25.argmin()) # 전체중에 최솟값 인덱스\n",
    "print('n_array25.argmin(axis=0) -> ', n_array25.argmin(axis=0)) # 열 별로의 최솟값 인덱스\n",
    "print('n_array25.argmin(axis=1) -> ', n_array25.argmin(axis=1),'\\n') # 행 별로의 최솟값 인덱스\n",
    "\n",
    "# 누적합 (누적곱 - cumprod)\n",
    "print('n_array25.cumsum() \\n-> ', n_array25.cumsum()) # 누적합\n",
    "print('n_array25.cumsum(axis=0) \\n', n_array25.cumsum(axis=0)) # 열 누적합\n",
    "print('n_array25.cumsum(axis=1) \\n', n_array25.cumsum(axis=1),'\\n') # 행 누적합\n"
   ]
  },
  {
   "cell_type": "code",
   "execution_count": 13,
   "metadata": {},
   "outputs": [
    {
     "name": "stdout",
     "output_type": "stream",
     "text": [
      "[[10  5  3]\n",
      " [ 7  6 15]\n",
      " [ 9  3 18]]\n",
      "n_array26>0.sum() ->  4\n",
      "any ->  True\n",
      "all ->  False\n",
      "np.intersect1d(x,y) ->  ['c' 'd']\n",
      "np.union1d(x,y) ->  ['a' 'b' 'c' 'd' 'e' 'f' 'g' 'h']\n",
      "np.in1d(x,y) ->  [False False  True  True False]\n",
      "np.setdiff1d(x,y) ->  ['a' 'b' 'e']\n",
      "np.setxor1d(x,y) ->  ['a' 'b' 'e' 'f' 'g' 'h']\n"
     ]
    }
   ],
   "source": [
    "# 11. 조건 배열을 위한 메서드\n",
    "# any 메서드는 하나 이상의 값이 True인지 검사하고, \n",
    "# all 메서드는 모든 원소가 True인지 검사\n",
    "\n",
    "\n",
    "n_array26 = np.array([[10,5,3],[7,6,15],[9,3,18]])\n",
    "print(n_array26)\n",
    "print('n_array26>0.sum() -> ', (n_array26>7).sum())\n",
    "print('any -> ', (n_array26>7).any())\n",
    "print('all -> ', (n_array26>7).all())\n",
    "\n",
    "n_array27 = ['a','b','c','d','e']\n",
    "n_array28 = ['c','d','f','g','h']\n",
    "\n",
    "print('np.intersect1d(x,y) -> ', np.intersect1d(n_array27, n_array28)) # 교집합\n",
    "print('np.union1d(x,y) -> ', np.union1d(n_array27, n_array28)) # 합집합\n",
    "print('np.in1d(x,y) -> ', np.in1d(n_array27, n_array28)) # x의 원소가 y의 원소에 포함되는지 나타내는 불리얼 배열 반환\n",
    "print('np.setdiff1d(x,y) -> ', np.setdiff1d(n_array27, n_array28)) # x와 y의 차집합\n",
    "print('np.setxor1d(x,y) -> ', np.setxor1d(n_array27, n_array28)) # 대칭차집합\n"
   ]
  },
  {
   "cell_type": "code",
   "execution_count": 14,
   "metadata": {},
   "outputs": [
    {
     "name": "stdout",
     "output_type": "stream",
     "text": [
      "[[-4. 32.]\n",
      " [ 5. 77.]] \n",
      " [[-0.16452991  0.06837607]\n",
      " [ 0.01068376  0.00854701]]\n"
     ]
    }
   ],
   "source": [
    "# 12. 선형대수\n",
    "np_array29 = [[1., 2., 3.], [4., 5., 6.]]\n",
    "np_array30 = [[7,4],[-1,5],[-3,6]]\n",
    "\n",
    "from numpy.linalg import inv,qr\n",
    "\n",
    "dot_array = np.dot(np_array29, np_array30)\n",
    "print(dot_array,'\\n', inv(dot_array))"
   ]
  },
  {
   "cell_type": "code",
   "execution_count": 15,
   "metadata": {},
   "outputs": [
    {
     "name": "stdout",
     "output_type": "stream",
     "text": [
      "sample1 0 \n",
      "\n",
      "sample2 8 \n",
      "\n",
      "sample3\n",
      " [[0.87339195 0.50974552]\n",
      " [0.27183571 0.33691873]\n",
      " [0.21695427 0.27647714]] \n",
      "\n",
      "sample4\n",
      " [[ 0.89310822 -0.38639426]\n",
      " [-0.11571516 -0.11062   ]\n",
      " [ 0.8109501   0.88217223]] \n",
      "\n",
      "sample5\n",
      " [3, 13, 4, 19, 11, 16, 1, 18, 17, 5] \n",
      "\n",
      "shuffle sample5\n",
      " [4, 11, 18, 3, 1, 16, 19, 13, 5, 17] \n",
      "\n"
     ]
    }
   ],
   "source": [
    "# 13. Numpy의 Random 모듈\n",
    "# 파이썬 내장 random 모듈은 한 번에 하나의 값만 생성할 수 있는 반면 numpy.random은 매우 큰 표본을 생성하는데 수십배 빠름\n",
    "# (1) np.random.randint : 균일 분포의 정수 난수 1개 생성\n",
    "# (2) np.random.rand 0부터 1사이의 균일 분포에서 난수 matrix array 생성\n",
    "# (3) np.random.rand 가우시안 표준 정규분포에서 난수 matrix array 생성\n",
    "# (4) normal(정규분포  표본추출), beta(베타분포 표본추출), binoraml(이항분포 표본추출)\n",
    "# (5) chisquare(카이제곱 표본추출), gamma(감마분포 표본추출)\n",
    "\n",
    "import random # 랜덤 샘플링 할땍\n",
    "np.random.seed(2020) # seed 설정\n",
    "sample1 = np.random.randint(6) # 0 ~ 5 사이 주어진 범위 안에서 난수 추출\n",
    "sample2 = np.random.randint(0, 20) # 0에서 20사이의 랜덤숫자 1개\n",
    "sample3 = np.random.rand(3,2)\n",
    "sample4 = np.random.randn(3,2)\n",
    "sample5 = random.sample(range(1,20),10)\n",
    "print('sample1', sample1, '\\n')\n",
    "print('sample2', sample2, '\\n')\n",
    "print('sample3\\n', sample3, '\\n')\n",
    "print('sample4\\n', sample4, '\\n')\n",
    "print('sample5\\n', sample5, '\\n')\n",
    "random.shuffle(sample5)\n",
    "print('shuffle sample5\\n', sample5, '\\n')\n"
   ]
  },
  {
   "cell_type": "code",
   "execution_count": 24,
   "metadata": {},
   "outputs": [
    {
     "name": "stdout",
     "output_type": "stream",
     "text": [
      "[1, 2, 0, 0, 0, 0, 0, 1, 2, 1, 0, 0, 0]\n",
      "[8 3 2]\n"
     ]
    }
   ],
   "source": [
    "# numpy - bincount\n",
    "\n",
    "sam = [1,2,0,0,0,0,0,1,2,1,0,0,0]\n",
    "print(sam)\n",
    "print(np.bincount(sam))"
   ]
  }
 ],
 "metadata": {
  "kernelspec": {
   "display_name": "Python 3",
   "language": "python",
   "name": "python3"
  },
  "language_info": {
   "codemirror_mode": {
    "name": "ipython",
    "version": 3
   },
   "file_extension": ".py",
   "mimetype": "text/x-python",
   "name": "python",
   "nbconvert_exporter": "python",
   "pygments_lexer": "ipython3",
   "version": "3.7.5"
  }
 },
 "nbformat": 4,
 "nbformat_minor": 4
}
