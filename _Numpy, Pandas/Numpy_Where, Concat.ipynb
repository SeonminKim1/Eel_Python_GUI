{
 "cells": [
  {
   "cell_type": "markdown",
   "metadata": {},
   "source": [
    "### map - lambda함수"
   ]
  },
  {
   "cell_type": "code",
   "execution_count": 4,
   "metadata": {},
   "outputs": [
    {
     "name": "stdout",
     "output_type": "stream",
     "text": [
      "1단계 각 항목 replace ['10', '21', '77', '92', '85', '43']\n",
      "2단계 각 항목 replace + 형 변환 [10, 21, 77, 92, 85, 43]\n"
     ]
    }
   ],
   "source": [
    "ls = ['NX10','NX21','NX77','NX92','NX85','NX43']\n",
    "\n",
    "# 1단계 각 항목 replace \n",
    "result1 = list(map(lambda x:x.replace('NX',''),ls))\n",
    "\n",
    "# 2단계 각 항목 replace + 형 변환\n",
    "result2 = list(map(int, map(lambda x:x.replace('NX',''),ls)))\n",
    "\n",
    "print('1단계 각 항목 replace', result1)\n",
    "print('2단계 각 항목 replace + 형 변환', result2)"
   ]
  },
  {
   "cell_type": "markdown",
   "metadata": {},
   "source": [
    "### list - filter 함수"
   ]
  },
  {
   "cell_type": "code",
   "execution_count": 2,
   "metadata": {},
   "outputs": [
    {
     "name": "stdout",
     "output_type": "stream",
     "text": [
      "[10, 5, 6, 9]\n"
     ]
    }
   ],
   "source": [
    "ls = [10, -10, 5, -7, -3, 6, 9 ]\n",
    "\n",
    "ls_filter = list(filter(lambda x: x>=0, ls)) # 0이상인 값들만 \n",
    "\n",
    "print(ls_filter)"
   ]
  },
  {
   "cell_type": "markdown",
   "metadata": {},
   "source": [
    "### numpy - where 함수\n",
    "- 파이썬의 for문 보다 빠름"
   ]
  },
  {
   "cell_type": "code",
   "execution_count": 13,
   "metadata": {},
   "outputs": [
    {
     "name": "stdout",
     "output_type": "stream",
     "text": [
      "(array([3, 4, 5, 7, 9], dtype=int64),) \n",
      "\n",
      "[ 7  6  5 99 71] \n",
      "\n",
      "[  1.    2.    3.    7.    6.    5.   -3.    9.9 -17.    7.1 -65. ] \n",
      "\n",
      "[ 8  9 15] \n",
      "\n",
      "[[  1   6   5]\n",
      " [  3   4   7]\n",
      " [ 64  81 225]]\n"
     ]
    }
   ],
   "source": [
    "import numpy as np\n",
    "a = np.array([1,2,3,7,6,5,-3,99,-17,71,-65])\n",
    "\n",
    "print(np.where(a>4),'\\n') # 인덱스가 나옴.\n",
    "print(a[np.where(a>4)],'\\n') # 값이나옴\n",
    "\n",
    "# 조건성립하면 a*0.1 / 미성립시 a\n",
    "print(np.where(a>=10, a*0.1, a),'\\n')\n",
    "\n",
    "# 2차원 ndarray\n",
    "a2 = np.array([[1,6,5],[3,4,7],[8,9,15]],'\\n')\n",
    "print(a2[np.where(a2>7)], '\\n')\n",
    "print(np.where(a2>7 , a2**2, a2))"
   ]
  },
  {
   "cell_type": "markdown",
   "metadata": {},
   "source": [
    "## numpy - vstack / hstack / concatenate\n",
    "- hstack : 두 배열을 왼쪽에서 오른쪽으로 붙이기 (= r_ )\n",
    "- vstack : 두 배열을 위에서 아래로 붙이기 (= r_ )\n",
    "- concatenate  두 개의 2차원 배열을 칼럼으로 세로로 붙여서 2차원 배열만들기 (= c_ )\n",
    "![vstack_hstack_concatenate](./__imgs/vstack_hstack_concatenate.PNG)"
   ]
  },
  {
   "cell_type": "code",
   "execution_count": 13,
   "metadata": {},
   "outputs": [
    {
     "name": "stdout",
     "output_type": "stream",
     "text": [
      "r_ 옆으로, 위아래로\n",
      "[1 2 3 4 5 6]\n",
      "[[1 2 3]\n",
      " [4 5 6]] \n",
      "\n",
      "hstack , vstack\n",
      "[1 2 3 4 5 6]\n",
      "[[1 2 3]\n",
      " [4 5 6]] \n",
      "\n",
      "c_, concatenate\n",
      "[[1 2 3 9 8 7]\n",
      " [4 5 6 6 5 4]]\n",
      "[[1 2 3 9 8 7]\n",
      " [4 5 6 6 5 4]]\n"
     ]
    }
   ],
   "source": [
    "import numpy as np\n",
    "a = np.array([1,2,3])\n",
    "b = np.array([4,5,6])\n",
    "\n",
    "print('r_ 옆으로, 위아래로')\n",
    "print(np.r_[a,b]) # 옆으로 붙이기\n",
    "print(np.r_[[a],[b]], '\\n') # 위아래로 붙이기\n",
    "\n",
    "print('hstack , vstack')\n",
    "print(np.hstack([a,b])) # 옆으로 붙이기\n",
    "print(np.vstack([a,b]),'\\n') # 위아래로 붙이기\n",
    "\n",
    "c = np.array([[1,2,3],\n",
    "              [4,5,6]])\n",
    "d = np.array([[9,8,7],\n",
    "              [6,5,4]])\n",
    "print('c_, concatenate') \n",
    "print(np.c_[c,d])\n",
    "print(np.concatenate((c,d), axis=1)) # 무조건 2차원 이상"
   ]
  }
 ],
 "metadata": {
  "kernelspec": {
   "display_name": "Python 3",
   "language": "python",
   "name": "python3"
  },
  "language_info": {
   "codemirror_mode": {
    "name": "ipython",
    "version": 3
   },
   "file_extension": ".py",
   "mimetype": "text/x-python",
   "name": "python",
   "nbconvert_exporter": "python",
   "pygments_lexer": "ipython3",
   "version": "3.7.5"
  }
 },
 "nbformat": 4,
 "nbformat_minor": 4
}
