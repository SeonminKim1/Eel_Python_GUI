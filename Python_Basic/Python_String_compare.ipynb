{
 "cells": [
  {
   "cell_type": "code",
   "execution_count": 1,
   "metadata": {},
   "outputs": [
    {
     "name": "stdout",
     "output_type": "stream",
     "text": [
      "53 55\n",
      "True \n",
      "\n",
      "44032 45208 45796\n",
      "False \n",
      "\n",
      "54620 44544 101 110 103\n",
      "True \n",
      "\n",
      "54028 50028 50\n",
      "False \n",
      "\n"
     ]
    }
   ],
   "source": [
    "# 모든 글자 1음절짜리들은 ASCII 코드라는 것이 따로 있음 ord 함수로 구하기 가능.\n",
    "# 여러글자로 이루어진 문자열은 앞에서부터 차례대로 비교\n",
    "\n",
    "# Example 1\n",
    "print(ord('5'), ord('7')) # 53, 55\n",
    "print('05시'<'07시', '\\n') # True \n",
    "\n",
    "# Example 2\n",
    "print(ord('가'), ord('나'), ord('다')) # 44032, 45208, 45796\n",
    "print('가나다'>'가다나', '\\n') # False\n",
    "\n",
    "# Example 3\n",
    "print(ord('한'), ord('글'), ord('e'), ord('n'), ord('g')) # 54620 44544 101 110 103\n",
    "print('한글' > 'english', '\\n') # True\n",
    "\n",
    "# Example 4\n",
    "print(ord('파'), ord('썬'), ord('2')) # 54028 50028 50\n",
    "print('파썬' > '파썬2', '\\n') # False"
   ]
  }
 ],
 "metadata": {
  "kernelspec": {
   "display_name": "Python 3",
   "language": "python",
   "name": "python3"
  },
  "language_info": {
   "codemirror_mode": {
    "name": "ipython",
    "version": 3
   },
   "file_extension": ".py",
   "mimetype": "text/x-python",
   "name": "python",
   "nbconvert_exporter": "python",
   "pygments_lexer": "ipython3",
   "version": "3.7.5"
  }
 },
 "nbformat": 4,
 "nbformat_minor": 4
}
