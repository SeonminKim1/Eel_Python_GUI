{
 "cells": [
  {
   "cell_type": "markdown",
   "id": "b90375ff",
   "metadata": {},
   "source": [
    "## Matplotlib\n",
    "- 플롯(그래프)을 그릴 때 주로 쓰이는 2D, 3D 플롯팅 패키지(모듈)\n",
    "- 대부분의 시각화 모듈은 인풋을 Dataframe이란 데이터 타입을 이용\n",
    "\n",
    "<hr>\n"
   ]
  },
  {
   "cell_type": "markdown",
   "id": "b3a04b8b",
   "metadata": {},
   "source": [
    "### 1. Figure와 Axes\n",
    "- matplolib에서 그리는 시각화는 **Figure라는 큰 틀에 Ax라는 subplot을 추가하는 형태**\n",
    "- 가로, 세로 길이 단위는 inch\n",
    "- 2개 이상 그리고 싶을 때 add_subplot()"
   ]
  },
  {
   "cell_type": "code",
   "execution_count": 9,
   "id": "0a9741a5",
   "metadata": {},
   "outputs": [
    {
     "name": "stdout",
     "output_type": "stream",
     "text": [
      "Matplotlib Version :  3.3.3\n"
     ]
    }
   ],
   "source": [
    "import numpy as np\n",
    "import matplotlib as mpl\n",
    "import matplotlib.pyplot as plt\n",
    "print('Matplotlib Version : ', mpl.__version__)"
   ]
  },
  {
   "cell_type": "code",
   "execution_count": 4,
   "id": "24deae2d",
   "metadata": {},
   "outputs": [
    {
     "data": {
      "image/png": "[encoded data removed]",
      "text/plain": [
       "<Figure size 216x144 with 1 Axes>"
      ]
     },
     "metadata": {
      "needs_background": "light"
     },
     "output_type": "display_data"
    }
   ],
   "source": [
    "fig = plt.figure(figsize=(3,2)) # 가로 세로 기준 inch 기준\n",
    "ax = fig.add_subplot()\n",
    "plt.show()"
   ]
  },
  {
   "cell_type": "code",
   "execution_count": 6,
   "id": "18a5edbe",
   "metadata": {},
   "outputs": [
    {
     "data": {
      "image/png": "[encoded data removed]",
      "text/plain": [
       "<Figure size 288x144 with 2 Axes>"
      ]
     },
     "metadata": {
      "needs_background": "light"
     },
     "output_type": "display_data"
    }
   ],
   "source": [
    "fig = plt.figure(figsize=(4,2)) # 가로 세로 기준 inch 기준\n",
    "ax = fig.add_subplot(121)\n",
    "ax = fig.add_subplot(1, 2, 2)\n",
    "plt.show()"
   ]
  },
  {
   "cell_type": "markdown",
   "id": "ce8a6ec7",
   "metadata": {},
   "source": [
    "<hr>\n",
    "\n",
    "### 2. plt로 그래프 그리기\n",
    "- **절차지향적인 방법**과 **객체지향적인(Object-Oriented) 방법**이 있음"
   ]
  },
  {
   "cell_type": "code",
   "execution_count": 13,
   "id": "80796dde",
   "metadata": {},
   "outputs": [
    {
     "data": {
      "image/png": "[encoded data removed]",
      "text/plain": [
       "<Figure size 288x144 with 2 Axes>"
      ]
     },
     "metadata": {
      "needs_background": "light"
     },
     "output_type": "display_data"
    }
   ],
   "source": [
    "# 절차지향적인 방법\n",
    "# fig 선언후 -> ax 선언 -> plt로 그림.\n",
    "fig = plt.figure(figsize=(4,2)) # 가로 세로 기준 inch 기준\n",
    "\n",
    "x1 = np.array([1,2,3])\n",
    "ax = fig.add_subplot(211)\n",
    "plt.plot(x1)\n",
    "\n",
    "x2 = np.array([3,2,1])\n",
    "ax = fig.add_subplot(212)\n",
    "plt.plot(x2)\n",
    "\n",
    "plt.show()"
   ]
  },
  {
   "cell_type": "code",
   "execution_count": 14,
   "id": "548789ca",
   "metadata": {},
   "outputs": [
    {
     "data": {
      "image/png": "[encoded data removed]",
      "text/plain": [
       "<Figure size 288x144 with 2 Axes>"
      ]
     },
     "metadata": {
      "needs_background": "light"
     },
     "output_type": "display_data"
    }
   ],
   "source": [
    "# 객체지향적인 방법\n",
    "# fig 선언후 -> ax 선언 -> ax로 그림\n",
    "fig = plt.figure(figsize=(4,2)) # 가로 세로 기준 inch 기준\n",
    "\n",
    "x1 = np.array([1,2,3])\n",
    "x2 = np.array([3,2,1])\n",
    "\n",
    "ax1 = fig.add_subplot(211)\n",
    "ax2 = fig.add_subplot(212)\n",
    "ax1.plot(x1)\n",
    "ax2.plot(x2)\n",
    "\n",
    "plt.show()"
   ]
  },
  {
   "cell_type": "markdown",
   "id": "691903e4",
   "metadata": {},
   "source": [
    "<hr>\n",
    "\n",
    "### 3. Plot 요소들 알아보기\n",
    "- 한 서브플롯 안에 여러 개 그리기."
   ]
  },
  {
   "cell_type": "code",
   "execution_count": 17,
   "id": "9c237de6",
   "metadata": {},
   "outputs": [
    {
     "data": {
      "image/png": "[encoded data removed]",
      "text/plain": [
       "<Figure size 288x144 with 1 Axes>"
      ]
     },
     "metadata": {
      "needs_background": "light"
     },
     "output_type": "display_data"
    }
   ],
   "source": [
    "fig = plt.figure(figsize=(4,2)) # 가로 세로 기준 inch 기준\n",
    "ax = fig.add_subplot(111)\n",
    "ax.plot([1,1,1])\n",
    "ax.plot([1,2,3])\n",
    "ax.plot([2,2,2])\n",
    "plt.show()"
   ]
  },
  {
   "cell_type": "markdown",
   "id": "d2f80288",
   "metadata": {},
   "source": [
    "<hr>\n",
    "\n",
    "### 4. 색상 지정하기\n",
    "- 색을 직접 명시, color 파라미터를 통해 일반적으로 전달\n",
    "- color 명시 3가지 방법\n",
    "    - 1) 한 글자로 정하는 경우 ('r', 'g', 'b') : 조금 투박함\n",
    "    - 2) color 이름으로 하는 경우 ('forestgreen', bluesky')\n",
    "    - 3) hexcode로 하는 경우 (#000000, #ffffff) \n",
    "    \n",
    "<hr>\n"
   ]
  },
  {
   "cell_type": "code",
   "execution_count": 19,
   "id": "29e4974b",
   "metadata": {},
   "outputs": [
    {
     "data": {
      "image/png": "[encoded data removed]",
      "text/plain": [
       "<Figure size 288x144 with 1 Axes>"
      ]
     },
     "metadata": {
      "needs_background": "light"
     },
     "output_type": "display_data"
    }
   ],
   "source": [
    "fig = plt.figure(figsize=(4,2)) # 가로 세로 기준 inch 기준\n",
    "ax = fig.add_subplot(111)\n",
    "ax.plot([1,1,1], color = 'r')\n",
    "ax.plot([2,2,2], color='red')\n",
    "ax.plot([3,3,3], color='#ff0000')\n",
    "\n",
    "plt.show()"
   ]
  },
  {
   "cell_type": "markdown",
   "id": "3add363a",
   "metadata": {},
   "source": [
    "### 5. 텍스트 사용하기\n",
    "- 범례로 추가하기. (label)\n",
    "- 제목 추가 (set_title)\n",
    "- ax에서 특정 데이터 변경시 .set_{}()형태의 메서드가 많음.\n",
    "- ax에서 특정 데이터 받아올 때 .get_{}() 형태의 메서드가 많음"
   ]
  },
  {
   "cell_type": "code",
   "execution_count": 22,
   "id": "6c0c5cd1",
   "metadata": {},
   "outputs": [
    {
     "data": {
      "image/png": "[encoded data removed]",
      "text/plain": [
       "<Figure size 432x144 with 2 Axes>"
      ]
     },
     "metadata": {
      "needs_background": "light"
     },
     "output_type": "display_data"
    }
   ],
   "source": [
    "fig = plt.figure(figsize=(6,2)) # 가로 세로 기준 inch 기준\n",
    "\n",
    "# ax1\n",
    "ax1 = fig.add_subplot(121)\n",
    "ax1.plot([1,1,1], label='1')\n",
    "ax1.plot([2,2,2], label='2')\n",
    "ax1.legend()\n",
    "ax1.set_title('Basic Plot1') # 제목\n",
    "\n",
    "# ax2\n",
    "ax2 = fig.add_subplot(122)\n",
    "ax2.plot([1,2,3], label='3')\n",
    "ax2.plot([3,2,1], label='4')\n",
    "ax2.legend()\n",
    "ax2.set_title('Basic Plot2') # 제목\n",
    "\n",
    "# sup title\n",
    "fig.suptitle('전체 title')\n",
    "plt.show()"
   ]
  },
  {
   "cell_type": "code",
   "execution_count": 24,
   "id": "8ed2e235",
   "metadata": {},
   "outputs": [
    {
     "name": "stdout",
     "output_type": "stream",
     "text": [
      "ax1의 title:Basic Plot1\n",
      "ax2의 title:Basic Plot2\n"
     ]
    }
   ],
   "source": [
    "print(f'ax1의 title:{ax1.get_title()}')\n",
    "print(f'ax2의 title:{ax2.get_title()}')"
   ]
  },
  {
   "cell_type": "markdown",
   "id": "45932fcd",
   "metadata": {},
   "source": [
    "<hr>\n",
    "\n",
    "### 6. 축 \n",
    "- 축은 ticks, tickslabels로 구분\n",
    "- ticks는 축에 적히는 값 지정\n",
    "- tickslabels는 축에 적히는 값을 수정할 때 (label값으로 수정)"
   ]
  },
  {
   "cell_type": "code",
   "execution_count": 34,
   "id": "7e0d3de9",
   "metadata": {},
   "outputs": [
    {
     "data": {
      "image/png": "[encoded data removed]",
      "text/plain": [
       "<Figure size 432x144 with 1 Axes>"
      ]
     },
     "metadata": {
      "needs_background": "light"
     },
     "output_type": "display_data"
    }
   ],
   "source": [
    "fig = plt.figure(figsize=(6,2)) # 가로 세로 기준 inch 기준\n",
    "\n",
    "# ax1\n",
    "ax1 = fig.add_subplot(111)\n",
    "ax1.plot([1,1,1], label='1')\n",
    "ax1.plot([2,2,2], label='2')\n",
    "ax1.set_xticks([0,1,2]) # 범위 xticks\n",
    "ax1.set_xticklabels(['one','two','three'])\n",
    "\n",
    "plt.show()"
   ]
  },
  {
   "cell_type": "markdown",
   "id": "ce447e64",
   "metadata": {},
   "source": [
    "<hr>\n",
    "\n",
    "### 7. 주석 및 임의 Text 적기\n",
    "- text() : 원하는 위치에 텍스트만 작성\n",
    "- annotate() : 원하는 위치에 주석, 화살표 같은 기능도 가능\n"
   ]
  },
  {
   "cell_type": "code",
   "execution_count": 29,
   "id": "882a2470",
   "metadata": {},
   "outputs": [
    {
     "data": {
      "image/png": "[encoded data removed]",
      "text/plain": [
       "<Figure size 432x144 with 1 Axes>"
      ]
     },
     "metadata": {
      "needs_background": "light"
     },
     "output_type": "display_data"
    }
   ],
   "source": [
    "fig = plt.figure(figsize=(6,2)) # 가로 세로 기준 inch 기준\n",
    "\n",
    "# ax1\n",
    "ax1 = fig.add_subplot(111)\n",
    "ax1.plot([1,1,1], label='1')\n",
    "ax1.plot([2,2,2], label='2')\n",
    "ax1.plot([3,3,3], label='2')\n",
    "\n",
    "# 범례, 제목\n",
    "ax1.legend()\n",
    "ax1.set_title('Basic Plot1') # 제목\n",
    "\n",
    "# 해당 위치에 Text\n",
    "ax1.text(x=0.3, y=2, s= 'This is Text')\n",
    "\n",
    "# 원하는 위치에 주석 - 화살표 같은 기능도 가능\n",
    "ax1.annotate(text='This is Annotate', xy=(1,2), \n",
    "            xytext=(1.2, 2.2),\n",
    "            arrowprops=dict(facecolor='black'))\n",
    "\n",
    "plt.show()"
   ]
  }
 ],
 "metadata": {
  "kernelspec": {
   "display_name": "Python 3",
   "language": "python",
   "name": "python3"
  },
  "language_info": {
   "codemirror_mode": {
    "name": "ipython",
    "version": 3
   },
   "file_extension": ".py",
   "mimetype": "text/x-python",
   "name": "python",
   "nbconvert_exporter": "python",
   "pygments_lexer": "ipython3",
   "version": "3.8.5"
  }
 },
 "nbformat": 4,
 "nbformat_minor": 5
}
