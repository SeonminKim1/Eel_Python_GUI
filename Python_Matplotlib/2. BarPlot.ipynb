{
 "cells": [
  {
   "cell_type": "markdown",
   "id": "8149db71",
   "metadata": {},
   "source": [
    "## Bar plot"
   ]
  },
  {
   "cell_type": "code",
   "execution_count": 1,
   "id": "0ea3cc5d",
   "metadata": {},
   "outputs": [
    {
     "name": "stdout",
     "output_type": "stream",
     "text": [
      "Matplotlib Version :  3.3.3\n"
     ]
    }
   ],
   "source": [
    "import numpy as np\n",
    "import pandas as pd\n",
    "import matplotlib as mpl\n",
    "import matplotlib.pyplot as plt\n",
    "print('Matplotlib Version : ', mpl.__version__)"
   ]
  },
  {
   "cell_type": "markdown",
   "id": "e0a52cdc",
   "metadata": {},
   "source": [
    "### 실습간 사용데이터\n",
    "- Student Score Dataset (1000명의 학생 데이터)\n",
    "- feature\n",
    "    - 성별 : female / male\n",
    "    - 인종,민족 : group A,B,C,D,E\n",
    "    - 부모님 최종학력 : 고등학교 졸업, 전문대, 학사, 석사, 2년제\n",
    "    - 점심 : standard와 free/reduced\n",
    "    - 시험 예습 : none / completed\n",
    "    - 수학,읽기 쓰기 성적 (0~100)"
   ]
  },
  {
   "cell_type": "code",
   "execution_count": 6,
   "id": "e87038ce",
   "metadata": {},
   "outputs": [
    {
     "data": {
      "text/html": [
       "<div>\n",
       "<style scoped>\n",
       "    .dataframe tbody tr th:only-of-type {\n",
       "        vertical-align: middle;\n",
       "    }\n",
       "\n",
       "    .dataframe tbody tr th {\n",
       "        vertical-align: top;\n",
       "    }\n",
       "\n",
       "    .dataframe thead th {\n",
       "        text-align: right;\n",
       "    }\n",
       "</style>\n",
       "<table border=\"1\" class=\"dataframe\">\n",
       "  <thead>\n",
       "    <tr style=\"text-align: right;\">\n",
       "      <th></th>\n",
       "      <th>gender</th>\n",
       "      <th>race/ethnicity</th>\n",
       "      <th>parental level of education</th>\n",
       "      <th>lunch</th>\n",
       "      <th>test preparation course</th>\n",
       "      <th>math score</th>\n",
       "      <th>reading score</th>\n",
       "      <th>writing score</th>\n",
       "    </tr>\n",
       "  </thead>\n",
       "  <tbody>\n",
       "    <tr>\n",
       "      <th>0</th>\n",
       "      <td>female</td>\n",
       "      <td>group B</td>\n",
       "      <td>bachelor's degree</td>\n",
       "      <td>standard</td>\n",
       "      <td>none</td>\n",
       "      <td>72</td>\n",
       "      <td>72</td>\n",
       "      <td>74</td>\n",
       "    </tr>\n",
       "    <tr>\n",
       "      <th>1</th>\n",
       "      <td>female</td>\n",
       "      <td>group C</td>\n",
       "      <td>some college</td>\n",
       "      <td>standard</td>\n",
       "      <td>completed</td>\n",
       "      <td>69</td>\n",
       "      <td>90</td>\n",
       "      <td>88</td>\n",
       "    </tr>\n",
       "    <tr>\n",
       "      <th>2</th>\n",
       "      <td>female</td>\n",
       "      <td>group B</td>\n",
       "      <td>master's degree</td>\n",
       "      <td>standard</td>\n",
       "      <td>none</td>\n",
       "      <td>90</td>\n",
       "      <td>95</td>\n",
       "      <td>93</td>\n",
       "    </tr>\n",
       "  </tbody>\n",
       "</table>\n",
       "</div>"
      ],
      "text/plain": [
       "   gender race/ethnicity parental level of education     lunch  \\\n",
       "0  female        group B           bachelor's degree  standard   \n",
       "1  female        group C                some college  standard   \n",
       "2  female        group B             master's degree  standard   \n",
       "\n",
       "  test preparation course  math score  reading score  writing score  \n",
       "0                    none          72             72             74  \n",
       "1               completed          69             90             88  \n",
       "2                    none          90             95             93  "
      ]
     },
     "execution_count": 6,
     "metadata": {},
     "output_type": "execute_result"
    }
   ],
   "source": [
    "student = pd.read_csv('data/studentsPerformance.csv')\n",
    "student.head(3)"
   ]
  },
  {
   "cell_type": "code",
   "execution_count": 8,
   "id": "dd94c0b3",
   "metadata": {},
   "outputs": [
    {
     "data": {
      "text/plain": [
       "gender  race/ethnicity\n",
       "female  group A            36\n",
       "        group B           104\n",
       "        group C           180\n",
       "        group D           129\n",
       "        group E            69\n",
       "male    group A            53\n",
       "        group B            86\n",
       "        group C           139\n",
       "        group D           133\n",
       "        group E            71\n",
       "Name: race/ethnicity, dtype: int64"
      ]
     },
     "execution_count": 8,
     "metadata": {},
     "output_type": "execute_result"
    }
   ],
   "source": [
    "# gender별 각 인종 그룹의 수\n",
    "group = student.groupby('gender')['race/ethnicity'].value_counts().sort_index()\n",
    "group"
   ]
  },
  {
   "cell_type": "markdown",
   "id": "8cbfe0ab",
   "metadata": {},
   "source": [
    "### 1. 기본 Bar Plot\n",
    "- bar() : 기본적인 bar plot\n",
    "- barh() : horizontal bar plot"
   ]
  },
  {
   "cell_type": "code",
   "execution_count": 4,
   "id": "147b1887",
   "metadata": {},
   "outputs": [
    {
     "data": {
      "image/png": "[encoded data removed]",
      "text/plain": [
       "<Figure size 360x144 with 2 Axes>"
      ]
     },
     "metadata": {
      "needs_background": "light"
     },
     "output_type": "display_data"
    }
   ],
   "source": [
    "# figure 생성 및 ax를 subplot 2개 짜리로 만듬.\n",
    "fig, axes = plt.subplots(1, 2, figsize=(5,2))\n",
    "\n",
    "x = list('ABCDE')\n",
    "y = np.array([1,2,3,4,5])\n",
    "\n",
    "axes[0].bar(x,y)\n",
    "axes[1].barh(x,y)\n",
    "\n",
    "plt.show()"
   ]
  },
  {
   "cell_type": "markdown",
   "id": "3d41ec6b",
   "metadata": {},
   "source": [
    "### 2. Multiple Bar Plot\n",
    "- 분포가 다른데 같게 보이는 문제 -> scale을 맞춰주는 방법 필요\n",
    "- scale 맞춰주는 방법\n",
    "    - sharey=True\n",
    "    - 반복문으로 set_ylim"
   ]
  },
  {
   "cell_type": "code",
   "execution_count": 12,
   "id": "8c9ead41",
   "metadata": {},
   "outputs": [
    {
     "data": {
      "image/png": "[encoded data removed]",
      "text/plain": [
       "<Figure size 720x288 with 2 Axes>"
      ]
     },
     "metadata": {
      "needs_background": "light"
     },
     "output_type": "display_data"
    }
   ],
   "source": [
    "# figure 생성 및 ax를 subplot 2개 짜리로 만듬.\n",
    "fig, axes = plt.subplots(1, 2, figsize=(10,4), sharey=True) # scale 방법1 : sharey\n",
    "axes[0].bar(group['male'].index, group['male'], color='royalblue')\n",
    "axes[1].bar(group['female'].index, group['female'], color='tomato')\n",
    "\n",
    "# scale 방법2\n",
    "for ax in axes:\n",
    "    ax.set_ylim(0,200)\n",
    "plt.show()"
   ]
  },
  {
   "cell_type": "markdown",
   "id": "cec9581e",
   "metadata": {},
   "source": [
    "### 3. Stacked Bar Plot\n",
    "- 쌓아서 보는 방법으로 비율 비교하기 좋음.\n",
    "- 주황색 (위에 올려져 있는 것들 끼리는 비교하기가 어려운 문제 존재)\n",
    "\n",
    "<hr>"
   ]
  },
  {
   "cell_type": "code",
   "execution_count": 19,
   "id": "0f4fd41c",
   "metadata": {},
   "outputs": [
    {
     "data": {
      "image/png": "[encoded data removed]",
      "text/plain": [
       "<Figure size 720x288 with 1 Axes>"
      ]
     },
     "metadata": {
      "needs_background": "light"
     },
     "output_type": "display_data"
    }
   ],
   "source": [
    "# figure 생성 및 ax를 subplot 2개 짜리로 만듬.\n",
    "fig, axes = plt.subplots(1, 1, figsize=(10,4), sharey=True) # scale 방법1 : sharey\n",
    "axes.bar(group['male'].index, group['male'], color='royalblue')\n",
    "axes.bar(group['female'].index, group['female'],bottom=group['male'], color='tomato')\n",
    "\n",
    "plt.show()"
   ]
  },
  {
   "cell_type": "markdown",
   "id": "2753e2ad",
   "metadata": {},
   "source": [
    "### 4. Percentage Stacked Bar Plot\n",
    "- 3번에서 좀더 업그레이드 한 방법\n",
    "- 전체 비율을 1로 하여 비교\n",
    "\n",
    "<hr>"
   ]
  },
  {
   "cell_type": "code",
   "execution_count": 28,
   "id": "e5b5d493",
   "metadata": {},
   "outputs": [
    {
     "data": {
      "image/png": "[encoded data removed]",
      "text/plain": [
       "<Figure size 720x288 with 1 Axes>"
      ]
     },
     "metadata": {
      "needs_background": "light"
     },
     "output_type": "display_data"
    }
   ],
   "source": [
    "fig, axes = plt.subplots(1, 1, figsize=(10,4)) # scale 방법1 : sharey\n",
    "\n",
    "group = group.sort_index(ascending=False) # 역순 정렬 \n",
    "total = group['male'] + group['female']\n",
    "\n",
    "axes.barh(group['male'].index, group['male']/total, \n",
    "          color='royalblue')\n",
    "axes.barh(group['female'].index, group['female']/total, \n",
    "          left=group['male']/total, color='tomato')\n",
    "\n",
    "# (0, 1)로 범위 조정\n",
    "axes.set_xlim(0,1)\n",
    "\n",
    "# 선 테두리 삭제\n",
    "for s in ['top', 'bottom', 'left','right']:\n",
    "    axes.spines[s].set_visible(False)\n",
    "\n",
    "plt.show()"
   ]
  },
  {
   "cell_type": "markdown",
   "id": "ee77c3f0",
   "metadata": {},
   "source": [
    "### 5. Grouped Bar Plot (Seaborn이 잘되있음)\n",
    "- 3가지 방법으로 구현 가능\n",
    "    - x축 조정\n",
    "    - width 조정\n",
    "    - xticks, xtickslabels"
   ]
  }
 ],
 "metadata": {
  "kernelspec": {
   "display_name": "Python 3",
   "language": "python",
   "name": "python3"
  },
  "language_info": {
   "codemirror_mode": {
    "name": "ipython",
    "version": 3
   },
   "file_extension": ".py",
   "mimetype": "text/x-python",
   "name": "python",
   "nbconvert_exporter": "python",
   "pygments_lexer": "ipython3",
   "version": "3.8.5"
  }
 },
 "nbformat": 4,
 "nbformat_minor": 5
}
